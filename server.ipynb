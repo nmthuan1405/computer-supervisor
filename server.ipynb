{
 "cells": [
  {
   "cell_type": "code",
   "execution_count": 1,
   "metadata": {},
   "outputs": [
    {
     "output_type": "stream",
     "name": "stdout",
     "text": [
      "START SERVER\n",
      "Port: 1234\n",
      "('127.0.0.1', 59864) \tSTART CONNECTION\n",
      "('127.0.0.1', 59864) \tReceive: screenshot\n",
      "('127.0.0.1', 59864) \tSEND SCREENSHOT\n",
      "('127.0.0.1', 59864) \tSent dump data. Size: 4\n",
      "('127.0.0.1', 59864) \tClient have unexpected error. Exit thread\n"
     ]
    }
   ],
   "source": [
    "from tkinter import *\n",
    "from tkinter.messagebox import askokcancel\n",
    "import server\n",
    "\n",
    "\n",
    "class Server_GUI:\n",
    "    def __init__(self, master):\n",
    "        self.services = None\n",
    "        self.master = master\n",
    "\n",
    "        self.master.title(\"Server\")\n",
    "        self.master.geometry('200x200')\n",
    "\n",
    "        self.btn_start = Button(self.master, text = \"Start Server\", width = 20, height = 5, command = self.start)\n",
    "        self.btn_start.place(relx = 0.5, rely = 0.5, anchor = CENTER)\n",
    "\n",
    "        self.master.protocol(\"WM_DELETE_WINDOW\", self.on_closing)\n",
    "\n",
    "    def start(self):\n",
    "        if self.services == None:\n",
    "            try:\n",
    "                self.services = server.ServerServices()\n",
    "                self.services.startServices()\n",
    "\n",
    "                self.btn_start.config(text = \"Stop Server\")\n",
    "            except:\n",
    "                print('Cannot create server')\n",
    "                self.services = None\n",
    "        else:\n",
    "            self.services.stopServices()\n",
    "            self.services = None\n",
    "\n",
    "            self.btn_start.config(text = \"Start Server\")\n",
    "\n",
    "    def on_closing(self):\n",
    "        if self.services != None:\n",
    "            if askokcancel(\"Quit\", \"Server is running.\\nDo you want to quit?\"):\n",
    "                self.services.stopServices()\n",
    "            else:\n",
    "                return\n",
    "            \n",
    "        self.master.destroy()\n",
    "\n",
    "            \n",
    "\n",
    "window_server = Tk()\n",
    "Server_GUI(window_server)\n",
    "window_server.mainloop()"
   ]
  },
  {
   "cell_type": "code",
   "execution_count": 4,
   "metadata": {},
   "outputs": [
    {
     "output_type": "stream",
     "name": "stdout",
     "text": [
      "CompletedProcess(args='reg query HKEY_LOCAL_MACHINE\\\\SOFTWARE\\\\CVSM /v CVSM', returncode=0, stdout=b'\\r\\nHKEY_LOCAL_MACHINE\\\\SOFTWARE\\\\CVSM\\r\\n    CVSM    REG_MULTI_SZ    APPID\\\\00x1\\\\0Enabled\\\\00x0\\\\0FUL\\\\00x3\\\\0FilterKernel\\\\00x1\\\\0KeepData\\\\00x0\\\\0NPR\\\\00x1\\\\0PicCache\\\\00x1\\\\0ResetPeriodMS\\\\00x240c8400\\\\0SPS\\\\00x3e8\\\\0TraceLevel\\\\00xa\\\\0UPPeriodMS\\\\00x1b7740\\\\0WMINU\\\\00x4c4b40\\r\\n\\r\\n', stderr=b'')\n"
     ]
    }
   ],
   "source": [
    "import subprocess\n",
    "res = subprocess.run(r'reg query HKEY_LOCAL_MACHINE\\SOFTWARE\\CVSM /v CVSM', shell = True, capture_output = True)\n",
    "print(res)"
   ]
  },
  {
   "cell_type": "code",
   "execution_count": null,
   "metadata": {},
   "outputs": [],
   "source": [
    "# Importing required modules\n",
    "  \n",
    "import tkinter as tk\n",
    "import tkinter.scrolledtext as st\n",
    "  \n",
    "# Creating tkinter window\n",
    "win = tk.Tk()\n",
    "win.title(\"ScrolledText Widget\")\n",
    "  \n",
    "# Title Label\n",
    "tk.Label(win, \n",
    "         text = \"ScrolledText Widget Example\", \n",
    "         font = (\"Times New Roman\", 15), \n",
    "         background = 'green', \n",
    "         foreground = \"white\").grid(column = 0,\n",
    "                                    row = 0)\n",
    "  \n",
    "# Creating scrolled text area\n",
    "# widget with Read only by\n",
    "# disabling the state\n",
    "text_area = st.ScrolledText(win,\n",
    "                            width = 30, \n",
    "                            height = 8, \n",
    "                            font = (\"Times New Roman\",\n",
    "                                    15))\n",
    "  \n",
    "text_area.grid(column = 0, pady = 10, padx = 10)\n",
    "  \n",
    "# Inserting Text which is read only\n",
    "text_area.insert(tk.INSERT,\n",
    "\"\"\"\\\n",
    "This is a scrolledtext widget to make tkinter text read only.\n",
    "Hi\n",
    "Geeks !!!\n",
    "Geeks !!!\n",
    "Geeks !!! \n",
    "Geeks !!!\n",
    "Geeks !!!\n",
    "Geeks !!!\n",
    "Geeks !!!\n",
    "\"\"\")\n",
    "  \n",
    "# Making the text read only\n",
    "text_area.configure(state ='disabled')\n",
    "win.mainloop()"
   ]
  },
  {
   "cell_type": "code",
   "execution_count": 4,
   "metadata": {},
   "outputs": [],
   "source": [
    "from winreg import *\n",
    "def getHKEY(name):\n",
    "    if name == \"HKEY_CLASSES_ROOT\":\n",
    "        return HKEY_CLASSES_ROOT\n",
    "    elif name == \"HKEY_CURRENT_USER\":\n",
    "        return HKEY_CURRENT_USER\n",
    "    elif name == \"HKEY_LOCAL_MACHINE\":\n",
    "        return HKEY_LOCAL_MACHINE\n",
    "    elif name == \"HKEY_USERS\":\n",
    "        return HKEY_USERS\n",
    "    elif name == 'HKEY_PERFORMANCE_DATA':\n",
    "        return HKEY_PERFORMANCE_DATA\n",
    "    elif name == 'HKEY_CURRENT_CONFIG':\n",
    "        return HKEY_CURRENT_CONFIG\n",
    "    elif name == 'HKEY_DYN_DATA':\n",
    "        return HKEY_DYN_DATA\n",
    "\n",
    "def getType(type):\n",
    "    if type == 'String':\n",
    "        return REG_SZ\n",
    "    elif type == 'Binary':\n",
    "        return REG_BINARY\n",
    "    elif type == 'DWORD':\n",
    "        return REG_DWORD\n",
    "    elif type == 'QWORD':\n",
    "        return REG_QWORD\n",
    "    elif type == 'Multi-String':\n",
    "        return REG_MULTI_SZ\n",
    "    elif type == 'Expandable String':\n",
    "        return REG_EXPAND_SZ\n",
    "\n",
    "def createKey(key):\n",
    "    hkey, key = key.split('\\\\', 1)\n",
    "    return OpenKeyEx(getHKEY(hkey), key, 0, KEY_QUERY_VALUE)\n",
    "\n",
    "def deleteKey(key):\n",
    "    hkey, key = key.split('\\\\', 1)\n",
    "    DeleteKey(getHKEY(hkey), key)\n",
    "\n",
    "def getValue(key, valueName):\n",
    "    return QueryValueEx(createKey(key), valueName)\n",
    "\n",
    "def setValue(key, valueName, value, type):\n",
    "    return SetValueEx(createKey(key), valueName, 0, getType(type), value)\n",
    "\n",
    "def deleteValue(key, valueName):\n",
    "    DeleteValue(createKey(key), valueName)\n",
    "\n"
   ]
  },
  {
   "cell_type": "code",
   "execution_count": 16,
   "metadata": {},
   "outputs": [],
   "source": [
    "from winreg import *\n",
    "#setValue(r'HKEY_LOCAL_MACHINE\\SOFTWARE\\Adobe\\test1\\test2', 'test 100', b'ahihi', 'Binary')\n",
    "path = r'HKEY_LOCAL_MACHINE\\SOFTWARE\\Adobe\\test1\\test2'\n",
    "value = 'efewrwerwe'\n",
    "data = r'%systemroot%\\system32'\n",
    "type = 'Expandable String'\n",
    "hkey, key = path.split('\\\\', 1)\n",
    "SetValueEx(OpenKeyEx(getHKEY(hkey), key, 0, KEY_SET_VALUE), value, 0, getType(type), data)"
   ]
  },
  {
   "cell_type": "code",
   "execution_count": null,
   "metadata": {},
   "outputs": [],
   "source": [
    "createKey(r'HKEY_LOCAL_MACHINE\\SOFTWARE\\Adobe\\test1\\test2')"
   ]
  },
  {
   "cell_type": "code",
   "execution_count": null,
   "metadata": {},
   "outputs": [],
   "source": [
    "deleteKey(r'HKEY_LOCAL_MACHINE\\SOFTWARE\\Adobe\\test1\\test2')"
   ]
  },
  {
   "cell_type": "code",
   "execution_count": null,
   "metadata": {},
   "outputs": [],
   "source": [
    "deleteValue(r'HKEY_LOCAL_MACHINE\\SOFTWARE\\Adobe\\test1\\test2', 'a')"
   ]
  },
  {
   "cell_type": "code",
   "execution_count": null,
   "metadata": {},
   "outputs": [],
   "source": [
    "getValue(r'HKEY_LOCAL_MACHINE\\SOFTWARE\\Adobe\\test1\\test2', r'New Value #1')"
   ]
  },
  {
   "cell_type": "code",
   "execution_count": null,
   "metadata": {},
   "outputs": [],
   "source": []
  },
  {
   "cell_type": "code",
   "execution_count": null,
   "metadata": {},
   "outputs": [],
   "source": [
    "\n",
    "import ctypes\n",
    "import subprocess\n",
    "import sys\n",
    "import os\n",
    "\n",
    "if os.name == 'nt':\n",
    "\tif not ctypes.windll.shell32.IsUserAnAdmin():\n",
    "\t\tprint('\\nThis script requires to be ran with admin privileges\\n')\n",
    "\t\tsys.exit()\n",
    "\n",
    "if sys.version[0] == '2':\n",
    "\tinput = raw_input\n",
    "\timport _winreg as wreg\n",
    "else:\n",
    "\timport winreg as wreg\n",
    "\n",
    "#create key\n",
    "key = wreg.CreateKey(wreg.HKEY_LOCAL_MACHINE, \"Software\\\\TestCompany\\\\TestProject\")\n",
    "# Create new subkey\n",
    "wreg.SetValue(key, 'NewSubkey', wreg.REG_SZ, 'testsubkey')\n",
    "print(wreg.QueryValue(key, 'NewSubKey'))\n",
    "# prints 'testsubkey'\n",
    "# Create new value\n",
    "wreg.SetValueEx(key, 'ValueName', 0, wreg.REG_SZ, 'testvalue')\n",
    "print(wreg.QueryValueEx(key,'ValueName'))\n",
    "# prints (u'testvalue', 1)\n",
    "key.Close()\n",
    "\n",
    "\n",
    "#read value\n",
    "key = wreg.OpenKey(wreg.HKEY_LOCAL_MACHINE, \"Software\\\\TestCompany\\\\TestProject\",0,wreg.KEY_ALL_ACCESS)\n",
    "wreg.SetValue(key, 'NewSubkey', wreg.REG_SZ, 'subkey_changed')\n",
    "print(wreg.QueryValue(key, 'NewSubkey'))\n",
    "# prints 'subkey_changed'\n",
    "wreg.SetValueEx(key, 'ValueName', 0, wreg.REG_SZ, 'value_changed')\n",
    "print(wreg.QueryValueEx(key, 'ValueName'))\n",
    "key.Close()\n",
    "\n",
    "\n",
    "#loop keys\n",
    "keyVal = r\"Software\"\n",
    "aKey = wreg.OpenKey(wreg.HKEY_LOCAL_MACHINE, keyVal, 0, wreg.KEY_ALL_ACCESS)\n",
    "try:\n",
    "    i = 0;\n",
    "    while True:\n",
    "        asubkey = wreg.EnumKey(aKey, i)\n",
    "        print(asubkey)\n",
    "        i += 1\n",
    "except WindowsError:\n",
    "    pass\n",
    "\n",
    "input('Press Enter')"
   ]
  },
  {
   "cell_type": "code",
   "execution_count": null,
   "metadata": {},
   "outputs": [],
   "source": []
  },
  {
   "cell_type": "code",
   "execution_count": 5,
   "metadata": {
    "tags": []
   },
   "outputs": [
    {
     "output_type": "stream",
     "name": "stdout",
     "text": [
      "[0, 29, 40, 52]\n['System Idle Process', '0', '12']\n['System', '4', '225']\n['Registry', '148', '4']\n['smss.exe', '536', '2']\n['csrss.exe', '748', '13']\n['wininit.exe', '968', '1']\n['csrss.exe', '980', '13']\n['services.exe', '732', '8']\n['lsass.exe', '780', '11']\n['svchost.exe', '888', '11']\n['fontdrvhost.exe', '928', '5']\n['svchost.exe', '1044', '12']\n['svchost.exe', '1092', '4']\n['winlogon.exe', '1144', '5']\n['fontdrvhost.exe', '1200', '5']\n['dwm.exe', '1268', '14']\n['svchost.exe', '1352', '4']\n['svchost.exe', '1408', '4']\n['svchost.exe', '1420', '3']\n['svchost.exe', '1428', '2']\n['svchost.exe', '1448', '7']\n['IntelCpHDCPSvc.exe', '1580', '3']\n['svchost.exe', '1588', '12']\n['svchost.exe', '1604', '5']\n['svchost.exe', '1668', '6']\n['svchost.exe', '1684', '5']\n['svchost.exe', '1748', '7']\n['svchost.exe', '1948', '3']\n['IntelCpHeciSvc.exe', '1964', '3']\n['svchost.exe', '2000', '2']\n['svchost.exe', '2088', '7']\n['igfxCUIService.exe', '2096', '2']\n['svchost.exe', '2224', '8']\n['NVDisplay.Container.exe', '2276', '11']\n['svchost.exe', '2324', '2']\n['svchost.exe', '2376', '3']\n['svchost.exe', '2388', '4']\n['svchost.exe', '2396', '8']\n['svchost.exe', '2448', '2']\n['svchost.exe', '2456', '3']\n['svchost.exe', '2552', '3']\n['svchost.exe', '2564', '7']\n['svchost.exe', '2576', '2']\n['Memory Compression', '2604', '78']\n['svchost.exe', '2732', '10']\n['svchost.exe', '2884', '5']\n['svchost.exe', '2948', '13']\n['svchost.exe', '3052', '11']\n['audiodg.exe', '3080', '12']\n['svchost.exe', '3108', '10']\n['svchost.exe', '3116', '5']\n['svchost.exe', '3280', '16']\n['svchost.exe', '3376', '4']\n['AsLdrSrv64.exe', '3384', '6']\n['svchost.exe', '3520', '7']\n['spoolsv.exe', '3568', '7']\n['svchost.exe', '3744', '14']\n['svchost.exe', '3804', '6']\n['svchost.exe', '3968', '2']\n['AsHidSrv64.exe', '740', '3']\n['svchost.exe', '3304', '14']\n['svchost.exe', '3328', '2']\n['svchost.exe', '3600', '8']\n['svchost.exe', '3336', '10']\n['svchost.exe', '3832', '20']\n['svchost.exe', '3924', '8']\n['svchost.exe', '3960', '3']\n['OneApp.IGCC.WinService.exe', '4104', '5']\n['RstMwService.exe', '4112', '6']\n['svchost.exe', '4120', '7']\n['svchost.exe', '4128', '2']\n['sqlwriter.exe', '4144', '2']\n['svchost.exe', '4156', '4']\n['NvTelemetryContainer.exe', '4164', '8']\n['MsMpEng.exe', '4180', '54']\n['svchost.exe', '4188', '18']\n['WTabletServicePro.exe', '4196', '4']\n['OfficeClickToRun.exe', '4204', '23']\n['svchost.exe', '4432', '5']\n['svchost.exe', '4512', '3']\n['svchost.exe', '4548', '6']\n['dasHost.exe', '4688', '2']\n['svchost.exe', '4716', '3']\n['sqlceip.exe', '4736', '11']\n['sqlservr.exe', '4768', '102']\n['svchost.exe', '4920', '12']\n['svchost.exe', '5972', '2']\n['svchost.exe', '6108', '7']\n['svchost.exe', '1732', '8']\n['NVDisplay.Container.exe', '6216', '23']\n['NisSrv.exe', '6948', '7']\n['AsMonStartupTask64.exe', '6344', '4']\n['sihost.exe', '6684', '9']\n['svchost.exe', '6720', '10']\n['igfxEM.exe', '6664', '5']\n['svchost.exe', '7016', '4']\n['svchost.exe', '7244', '4']\n['svchost.exe', '7272', '5']\n['ctfmon.exe', '7296', '11']\n['taskhostw.exe', '7432', '8']\n['Wacom_TabletUser.exe', '7576', '4']\n['explorer.exe', '7648', '70']\n['svchost.exe', '7764', '10']\n['svchost.exe', '7956', '9']\n['WacomHost.exe', '8320', '1']\n['svchost.exe', '8412', '3']\n['SearchIndexer.exe', '8464', '14']\n['EVKey64.exe', '8616', '3']\n['StartMenuExperienceHost.exe', '8768', '8']\n['RuntimeBroker.exe', '9004', '2']\n['SearchApp.exe', '8232', '55']\n['RuntimeBroker.exe', '5656', '12']\n['YourPhone.exe', '9308', '15']\n['Wacom_Tablet.exe', '9420', '27']\n['SettingSyncHost.exe', '9548', '9']\n['RuntimeBroker.exe', '9656', '2']\n['Wacom_TouchUser.exe', '9716', '12']\n['ShellExperienceHost.exe', '1444', '32']\n['RuntimeBroker.exe', '10068', '2']\n['RuntimeBroker.exe', '8740', '12']\n['dllhost.exe', '10364', '4']\n['TextInputHost.exe', '10496', '14']\n['SecurityHealthSystray.exe', '10776', '1']\n['SecurityHealthService.exe', '10812', '6']\n['Cortana.exe', '10952', '18']\n['RuntimeBroker.exe', '11156', '5']\n['svchost.exe', '11196', '5']\n['svchost.exe', '10332', '3']\n['svchost.exe', '10400', '13']\n['svchost.exe', '1728', '4']\n['svchost.exe', '6184', '2']\n['SystemSettingsBroker.exe', '10700', '12']\n['firefox.exe', '11004', '100']\n['firefox.exe', '11428', '32']\n['firefox.exe', '11732', '35']\n['firefox.exe', '12032', '36']\n['firefox.exe', '12448', '41']\n['CompPkgSrv.exe', '12984', '1']\n['firefox.exe', '13020', '6']\n['RAVBg64.exe', '13124', '4']\n['RAVCpl64.exe', '13252', '7']\n['wlanext.exe', '9736', '5']\n['conhost.exe', '5932', '2']\n['Intel_PIE_Service.exe', '11944', '4']\n['RuntimeBroker.exe', '3816', '1']\n['Zoom.exe', '2436', '33']\n['RuntimeBroker.exe', '9672', '2']\n['ApplicationFrameHost.exe', '4360', '5']\n['WinStore.App.exe', '8060', '22']\n['svchost.exe', '9708', '2']\n['svchost.exe', '4312', '7']\n['UserOOBEBroker.exe', '4368', '4']\n['SgrmBroker.exe', '13844', '6']\n['svchost.exe', '13888', '3']\n['svchost.exe', '14020', '8']\n['svchost.exe', '14104', '3']\n['Calculator.exe', '14180', '20']\n['RuntimeBroker.exe', '14264', '1']\n['HxOutlook.exe', '13380', '28']\n['HxTsr.exe', '13496', '14']\n['HxAccounts.exe', '13544', '14']\n['firefox.exe', '13104', '43']\n['dllhost.exe', '7728', '5']\n['Microsoft.Photos.exe', '13012', '10']\n['RuntimeBroker.exe', '4608', '2']\n['svchost.exe', '3212', '3']\n['svchost.exe', '4496', '4']\n['Video.UI.exe', '8088', '17']\n['GameBar.exe', '7944', '13']\n['GameBarFTServer.exe', '1960', '3']\n['RuntimeBroker.exe', '10016', '1']\n['RuntimeBroker.exe', '2944', '2']\n['firefox.exe', '6064', '35']\n['SystemSettings.exe', '10648', '23']\n['Code.exe', '12432', '33']\n['Code.exe', '14232', '7']\n['Code.exe', '10756', '13']\n['Code.exe', '5716', '8']\n['Code.exe', '6208', '32']\n['Code.exe', '2764', '24']\n['Code.exe', '12916', '20']\n['CodeHelper.exe', '4324', '6']\n['conhost.exe', '5460', '2']\n['Code.exe', '5348', '12']\n['conhost.exe', '12700', '5']\n['powershell.exe', '4676', '9']\n['Code.exe', '7804', '10']\n['conhost.exe', '9268', '5']\n['powershell.exe', '13088', '9']\n['python3.9.exe', '13120', '6']\n['conhost.exe', '10204', '2']\n['python3.9.exe', '11144', '13']\n['firefox.exe', '12592', '35']\n['Zoom.exe', '9284', '19']\n['Code.exe', '10380', '26']\n['python3.9.exe', '8552', '6']\n['conhost.exe', '9012', '2']\n['python3.9.exe', '7668', '13']\n['python3.9.exe', '10676', '6']\n['conhost.exe', '2520', '2']\n['python3.9.exe', '12440', '3']\n['regedit.exe', '4632', '2']\n['firefox.exe', '7880', '36']\n['firefox.exe', '9076', '41']\n['firefox.exe', '9588', '22']\n['cmd.exe', '6080', '3']\n['WMIC.exe', '2060', '8']\n['WmiPrvSE.exe', '9204', '9']\n['', '', '']\n"
     ]
    },
    {
     "output_type": "error",
     "ename": "NameError",
     "evalue": "name 'data' is not defined",
     "traceback": [
      "\u001b[1;31m---------------------------------------------------------------------------\u001b[0m",
      "\u001b[1;31mNameError\u001b[0m                                 Traceback (most recent call last)",
      "\u001b[1;32m<ipython-input-5-d85454a5a581>\u001b[0m in \u001b[0;36m<module>\u001b[1;34m\u001b[0m\n\u001b[0;32m     22\u001b[0m \u001b[1;33m\u001b[0m\u001b[0m\n\u001b[0;32m     23\u001b[0m \u001b[1;33m\u001b[0m\u001b[0m\n\u001b[1;32m---> 24\u001b[1;33m \u001b[0mdata\u001b[0m\u001b[1;33m.\u001b[0m\u001b[0mstdout\u001b[0m\u001b[1;33m.\u001b[0m\u001b[0mclose\u001b[0m\u001b[1;33m(\u001b[0m\u001b[1;33m)\u001b[0m\u001b[1;33m\u001b[0m\u001b[1;33m\u001b[0m\u001b[0m\n\u001b[0m",
      "\u001b[1;31mNameError\u001b[0m: name 'data' is not defined"
     ]
    }
   ],
   "source": [
    "import subprocess\n",
    "\n",
    "lines = subprocess.Popen(\"wmic process get description, processid, threadcount\", shell=True, stdout=subprocess.PIPE)\n",
    "\n",
    "firstLine = lines.stdout.readline().decode().rstrip()\n",
    "headers = ['Description', 'ProcessId', 'ThreadCount']\n",
    "align = []\n",
    "for header in headers:\n",
    "    align.append(firstLine.find(header))\n",
    "align.append(len(firstLine) + 1)\n",
    "\n",
    "print(align)\n",
    "\n",
    "result = []\n",
    "for l in lines.stdout:\n",
    "    line = l.decode().rstrip()\n",
    "    row = []\n",
    "    for i in range(len(align) - 1):\n",
    "        row.append(line[align[i] : align[i + 1] - 1].rstrip())\n",
    "    print(row)\n",
    "    result.append(row)\n",
    "\n",
    "\n",
    "data.stdout.close()"
   ]
  },
  {
   "cell_type": "code",
   "execution_count": null,
   "metadata": {},
   "outputs": [],
   "source": [
    "# vấn đề với hàm cmd\n",
    "def getCommand(buff):\n",
    "    command = (buff.recv_until(DELIM).decode())\n",
    "    print(f'COMMAND {command}')\n",
    "\n",
    "    returnVal = os.system(command)\n",
    "    sendDump(buff, returnVal)"
   ]
  },
  {
   "cell_type": "code",
   "execution_count": null,
   "metadata": {},
   "outputs": [],
   "source": []
  },
  {
   "cell_type": "code",
   "execution_count": null,
   "metadata": {},
   "outputs": [],
   "source": [
    "import subprocess\n",
    "cmd = 'powershell \"gps | where {$_.MainWindowTitle } | select Description'\n",
    "proc = subprocess.Popen(cmd, shell=True, stdout=subprocess.PIPE)\n",
    "for line in proc.stdout:\n",
    "     if line.rstrip():\n",
    "        # only print lines that are not empty\n",
    "        # decode() is necessary to get rid of the binary string (b')\n",
    "        # rstrip() to remove \\r\\n\n",
    "        print(line.decode().rstrip())"
   ]
  },
  {
   "cell_type": "code",
   "execution_count": null,
   "metadata": {},
   "outputs": [],
   "source": []
  },
  {
   "cell_type": "code",
   "execution_count": null,
   "metadata": {},
   "outputs": [],
   "source": [
    "import subprocess\n",
    "cmd = 'powershell \"gps | where {$_.MainWindowTitle } | select Description,Id,Path'\n",
    "proc = subprocess.Popen(cmd, shell=True, stdout=subprocess.PIPE)\n",
    "for line in proc.stdout:\n",
    "    if not line.decode()[0].isspace():\n",
    "        print(line.decode().rstrip())"
   ]
  },
  {
   "cell_type": "code",
   "execution_count": 15,
   "metadata": {},
   "outputs": [
    {
     "output_type": "stream",
     "name": "stdout",
     "text": [
      "C:\\Users\\thuan\\AppData\\Local\\Temp\\tmpjmcwlcz6\n"
     ]
    }
   ],
   "source": [
    "from tempfile import NamedTemporaryFile\n",
    "data = 'abc'\n",
    "f = NamedTemporaryFile(mode = 'w', encoding = 'utf-16', delete = False)\n",
    "\n",
    "f.write(data)\n",
    "f.close()\n",
    "print(f.name)\n",
    "\n"
   ]
  },
  {
   "cell_type": "code",
   "execution_count": 32,
   "metadata": {},
   "outputs": [
    {
     "output_type": "error",
     "ename": "FileNotFoundError",
     "evalue": "[WinError 2] The system cannot find the file specified: 'sgwewefwefwefwe'",
     "traceback": [
      "\u001b[1;31m---------------------------------------------------------------------------\u001b[0m",
      "\u001b[1;31mFileNotFoundError\u001b[0m                         Traceback (most recent call last)",
      "\u001b[1;32m<ipython-input-32-b19e1d844a8c>\u001b[0m in \u001b[0;36m<module>\u001b[1;34m\u001b[0m\n\u001b[0;32m      1\u001b[0m \u001b[1;32mimport\u001b[0m \u001b[0mos\u001b[0m\u001b[1;33m\u001b[0m\u001b[1;33m\u001b[0m\u001b[0m\n\u001b[1;32m----> 2\u001b[1;33m \u001b[0mos\u001b[0m\u001b[1;33m.\u001b[0m\u001b[0mremove\u001b[0m\u001b[1;33m(\u001b[0m\u001b[1;34m'sgwewefwefwefwe'\u001b[0m\u001b[1;33m)\u001b[0m\u001b[1;33m\u001b[0m\u001b[1;33m\u001b[0m\u001b[0m\n\u001b[0m",
      "\u001b[1;31mFileNotFoundError\u001b[0m: [WinError 2] The system cannot find the file specified: 'sgwewefwefwefwe'"
     ]
    }
   ],
   "source": [
    "import os\n",
    "os.remove('sgwewefwefwefwe')"
   ]
  },
  {
   "cell_type": "code",
   "execution_count": 31,
   "metadata": {},
   "outputs": [
    {
     "output_type": "stream",
     "name": "stdout",
     "text": [
      "CompletedProcess(args='reg import \"asdggsdagsadg\"', returncode=1, stdout=b'', stderr=b'ERROR: Error opening the file. There may be a disk or file system error.\\r\\n')\n"
     ]
    }
   ],
   "source": [
    "import subprocess\n",
    "lines = subprocess.run(f'reg import \\\"asdggsdagsadg\\\"', capture_output=True)\n",
    "print(lines)"
   ]
  },
  {
   "cell_type": "code",
   "execution_count": 2,
   "metadata": {},
   "outputs": [
    {
     "output_type": "stream",
     "name": "stdout",
     "text": [
      "Single Click, Button-l\n",
      "Single Click, Button-l\n",
      "Single Click, Button-l\n",
      "Double Click, so let's stop\n"
     ]
    },
    {
     "output_type": "error",
     "ename": "SystemExit",
     "evalue": "",
     "traceback": [
      "An exception has occurred, use %tb to see the full traceback.\n",
      "\u001b[1;31mSystemExit\u001b[0m\n"
     ]
    }
   ],
   "source": [
    "from tkinter import *\n",
    "def hello(event):\n",
    "    print(\"Single Click, Button-l\") \n",
    "def quit(event):                           \n",
    "    print(\"Double Click, so let's stop\") \n",
    "    import sys; sys.exit() \n",
    "\n",
    "widget = Button(None, text='Mouse Clicks')\n",
    "widget.pack()\n",
    "widget.bind('<Button-1>', hello)\n",
    "widget.bind('<Double-1>', quit) \n",
    "widget.mainloop()"
   ]
  },
  {
   "cell_type": "code",
   "execution_count": 11,
   "metadata": {},
   "outputs": [
    {
     "output_type": "stream",
     "name": "stdout",
     "text": [
      "2\n"
     ]
    }
   ],
   "source": [
    "print(len(('ER',2)))"
   ]
  },
  {
   "cell_type": "code",
   "execution_count": 2,
   "metadata": {},
   "outputs": [
    {
     "output_type": "stream",
     "name": "stdout",
     "text": [
      "6161\n"
     ]
    }
   ],
   "source": [
    "a = b'aa'\n",
    "print(a.hex())"
   ]
  },
  {
   "cell_type": "code",
   "execution_count": null,
   "metadata": {},
   "outputs": [],
   "source": []
  }
 ],
 "metadata": {
  "kernelspec": {
   "name": "python395jvsc74a57bd000172848056bf5a8dce28facb726fe454ad10f3d4266ab9112b81ae2143452f8",
   "display_name": "Python 3.9.5 64-bit ('PythonSoftwareFoundation.Python.3.9_qbz5n2kfra8p0')"
  },
  "language_info": {
   "name": "python",
   "version": "3.9.5"
  },
  "metadata": {
   "interpreter": {
    "hash": "00172848056bf5a8dce28facb726fe454ad10f3d4266ab9112b81ae2143452f8"
   }
  },
  "orig_nbformat": 2
 },
 "nbformat": 4,
 "nbformat_minor": 2
}