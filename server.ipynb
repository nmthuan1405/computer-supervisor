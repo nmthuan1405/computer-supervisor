{
 "cells": [
  {
   "cell_type": "code",
   "execution_count": 1,
   "metadata": {},
   "outputs": [
    {
     "output_type": "stream",
     "name": "stdout",
     "text": [
      "START SERVER\n",
      "Port: 1234\n",
      "('127.0.0.1', 53016) \tSTART CONNECTION\n",
      "('127.0.0.1', 53016) \tReceive: processlist\n",
      "('127.0.0.1', 53016) \tSEND PROCESS LIST\n",
      "('127.0.0.1', 53016) \tSent dump data. Size: 6329\n",
      "('127.0.0.1', 53016) \tReceive: processlist\n",
      "('127.0.0.1', 53016) \tSEND PROCESS LIST\n",
      "('127.0.0.1', 53016) \tSent dump data. Size: 6357\n",
      "('127.0.0.1', 53016) \tReceive: killprocess\n",
      "('127.0.0.1', 53016) \tKILL PROCESS 13564\n",
      "('127.0.0.1', 53016) \tReceive: killprocess\n",
      "('127.0.0.1', 53016) \tKILL PROCESS 13564\n",
      "('127.0.0.1', 53016) \t\tErr: Unable to kill 13564\n",
      "('127.0.0.1', 53016) \tClient have unexpected error. Exit thread\n",
      "STOP SERVER\n",
      "('127.0.0.1', 53016) \tCLOSE CONNECTION\n",
      "Server stopped. Exit thread\n"
     ]
    }
   ],
   "source": [
    "from tkinter import *\n",
    "from tkinter.messagebox import askokcancel\n",
    "import server\n",
    "\n",
    "\n",
    "class Server_GUI:\n",
    "    def __init__(self, master):\n",
    "        self.services = None\n",
    "        self.master = master\n",
    "\n",
    "        self.master.title(\"Server\")\n",
    "        self.master.geometry('200x200')\n",
    "\n",
    "        self.btn_start = Button(self.master, text = \"Start Server\", width = 20, height = 5, command = self.start)\n",
    "        self.btn_start.place(relx = 0.5, rely = 0.5, anchor = CENTER)\n",
    "\n",
    "        self.master.protocol(\"WM_DELETE_WINDOW\", self.on_closing)\n",
    "\n",
    "    def start(self):\n",
    "        if self.services == None:\n",
    "            try:\n",
    "                self.services = server.ServerServices()\n",
    "                self.services.startServices()\n",
    "\n",
    "                self.btn_start.config(text = \"Stop Server\")\n",
    "            except:\n",
    "                print('Cannot create server')\n",
    "                self.services = None\n",
    "        else:\n",
    "            self.services.stopServices()\n",
    "            self.services = None\n",
    "\n",
    "            self.btn_start.config(text = \"Start Server\")\n",
    "\n",
    "    def on_closing(self):\n",
    "        if self.services != None:\n",
    "            if askokcancel(\"Quit\", \"Server is running.\\nDo you want to quit?\"):\n",
    "                self.services.stopServices()\n",
    "            else:\n",
    "                return\n",
    "            \n",
    "        self.master.destroy()\n",
    "\n",
    "            \n",
    "\n",
    "window_server = Tk()\n",
    "Server_GUI(window_server)\n",
    "window_server.mainloop()"
   ]
  },
  {
   "cell_type": "code",
   "execution_count": null,
   "metadata": {},
   "outputs": [],
   "source": []
  },
  {
   "cell_type": "code",
   "execution_count": null,
   "metadata": {},
   "outputs": [],
   "source": [
    "from winreg import *\n",
    "def getHKEY(name):\n",
    "    if name == \"HKEY_CLASSES_ROOT\":\n",
    "        return HKEY_CLASSES_ROOT\n",
    "    elif name == \"HKEY_CURRENT_USER\":\n",
    "        return HKEY_CURRENT_USER\n",
    "    elif name == \"HKEY_LOCAL_MACHINE\":\n",
    "        return HKEY_LOCAL_MACHINE\n",
    "    elif name == \"HKEY_USERS\":\n",
    "        return HKEY_USERS\n",
    "    elif name == 'HKEY_PERFORMANCE_DATA':\n",
    "        return HKEY_PERFORMANCE_DATA\n",
    "    elif name == 'HKEY_CURRENT_CONFIG':\n",
    "        return HKEY_CURRENT_CONFIG\n",
    "    elif name == 'HKEY_DYN_DATA':\n",
    "        return HKEY_DYN_DATA\n",
    "\n",
    "def getType(type):\n",
    "    if type == 'String':\n",
    "        return REG_SZ\n",
    "    elif type == 'Binary':\n",
    "        return REG_BINARY\n",
    "    elif type == 'DWORD':\n",
    "        return REG_DWORD\n",
    "    elif type == 'QWORD':\n",
    "        return REG_QWORD\n",
    "    elif type == 'Multi-String':\n",
    "        return REG_MULTI_SZ\n",
    "    elif type == 'Expandable String':\n",
    "        return REG_EXPAND_SZ\n",
    "\n",
    "def createKey(key):\n",
    "    hkey, key = key.split('\\\\', 1)\n",
    "    return CreateKeyEx(getHKEY(hkey), key)\n",
    "\n",
    "def deleteKey(key):\n",
    "    hkey, key = key.split('\\\\', 1)\n",
    "    DeleteKey(getHKEY(hkey), key)\n",
    "\n",
    "def getValue(key, valueName):\n",
    "    return QueryValueEx(createKey(key), valueName)\n",
    "\n",
    "def setValue(key, valueName, value, type):\n",
    "    return SetValueEx(createKey(key), valueName, 0, getType(type), value)\n",
    "\n",
    "def deleteValue(key, valueName):\n",
    "    DeleteValue(createKey(key), valueName)\n",
    "\n"
   ]
  },
  {
   "cell_type": "code",
   "execution_count": null,
   "metadata": {},
   "outputs": [],
   "source": [
    "from _winreg import *\n",
    "\n",
    "def createKey(key):\n",
    "    hkey, key = key.split('\\\\', 1)\n",
    "    return CreateKeyEx(getHKEY(hkey), key)\n",
    "\n",
    "def deleteKey(key):\n",
    "    hkey, key = key.split('\\\\', 1)\n",
    "    DeleteKey(getHKEY(hkey), key)\n",
    "\n",
    "def getValue(key, valueName):\n",
    "    return QueryValueEx(createKey(key), valueName)\n",
    "\n",
    "def setValue(key, valueName, value, type):\n",
    "    return SetValueEx(createKey(key), valueName, 0, getType(type), value)\n",
    "\n",
    "def deleteValue(key, valueName):\n",
    "    DeleteValue(createKey(key), valueName)\n",
    "\n",
    "SetValueEx(createKey(r'HKEY_LOCAL_MACHINE\\SOFTWARE\\Adobe\\test1\\test2'), 'S2', 0, _winreg.REG_MULTI_SZ, [\"Car\", \"Bus\", \"Train\"])"
   ]
  },
  {
   "cell_type": "code",
   "execution_count": null,
   "metadata": {},
   "outputs": [],
   "source": [
    "setValue(r'HKEY_LOCAL_MACHINE\\SOFTWARE\\Adobe\\test1\\test2', 'test 1', b'ahihi', 'Binary')"
   ]
  },
  {
   "cell_type": "code",
   "execution_count": null,
   "metadata": {},
   "outputs": [],
   "source": [
    "createKey(r'HKEY_LOCAL_MACHINE\\SOFTWARE\\Adobe\\test1\\test2')"
   ]
  },
  {
   "cell_type": "code",
   "execution_count": null,
   "metadata": {},
   "outputs": [],
   "source": [
    "deleteKey(r'HKEY_LOCAL_MACHINE\\SOFTWARE\\Adobe\\test1\\test2')"
   ]
  },
  {
   "cell_type": "code",
   "execution_count": null,
   "metadata": {},
   "outputs": [],
   "source": [
    "deleteValue(r'HKEY_LOCAL_MACHINE\\SOFTWARE\\Adobe\\test1\\test2', 'a')"
   ]
  },
  {
   "cell_type": "code",
   "execution_count": null,
   "metadata": {},
   "outputs": [],
   "source": [
    "getValue(r'HKEY_LOCAL_MACHINE\\SOFTWARE\\Adobe\\test1\\test2', r'a')"
   ]
  },
  {
   "cell_type": "code",
   "execution_count": null,
   "metadata": {},
   "outputs": [],
   "source": []
  },
  {
   "cell_type": "code",
   "execution_count": 5,
   "metadata": {},
   "outputs": [
    {
     "output_type": "stream",
     "name": "stdout",
     "text": [
      "None\n"
     ]
    }
   ],
   "source": [
    "import os\n",
    "print(os.kill(15200, 9))"
   ]
  },
  {
   "cell_type": "code",
   "execution_count": null,
   "metadata": {},
   "outputs": [],
   "source": [
    "\n",
    "import ctypes\n",
    "import subprocess\n",
    "import sys\n",
    "import os\n",
    "\n",
    "if os.name == 'nt':\n",
    "\tif not ctypes.windll.shell32.IsUserAnAdmin():\n",
    "\t\tprint('\\nThis script requires to be ran with admin privileges\\n')\n",
    "\t\tsys.exit()\n",
    "\n",
    "if sys.version[0] == '2':\n",
    "\tinput = raw_input\n",
    "\timport _winreg as wreg\n",
    "else:\n",
    "\timport winreg as wreg\n",
    "\n",
    "#create key\n",
    "key = wreg.CreateKey(wreg.HKEY_LOCAL_MACHINE, \"Software\\\\TestCompany\\\\TestProject\")\n",
    "# Create new subkey\n",
    "wreg.SetValue(key, 'NewSubkey', wreg.REG_SZ, 'testsubkey')\n",
    "print(wreg.QueryValue(key, 'NewSubKey'))\n",
    "# prints 'testsubkey'\n",
    "# Create new value\n",
    "wreg.SetValueEx(key, 'ValueName', 0, wreg.REG_SZ, 'testvalue')\n",
    "print(wreg.QueryValueEx(key,'ValueName'))\n",
    "# prints (u'testvalue', 1)\n",
    "key.Close()\n",
    "\n",
    "\n",
    "#read value\n",
    "key = wreg.OpenKey(wreg.HKEY_LOCAL_MACHINE, \"Software\\\\TestCompany\\\\TestProject\",0,wreg.KEY_ALL_ACCESS)\n",
    "wreg.SetValue(key, 'NewSubkey', wreg.REG_SZ, 'subkey_changed')\n",
    "print(wreg.QueryValue(key, 'NewSubkey'))\n",
    "# prints 'subkey_changed'\n",
    "wreg.SetValueEx(key, 'ValueName', 0, wreg.REG_SZ, 'value_changed')\n",
    "print(wreg.QueryValueEx(key, 'ValueName'))\n",
    "key.Close()\n",
    "\n",
    "\n",
    "#loop keys\n",
    "keyVal = r\"Software\"\n",
    "aKey = wreg.OpenKey(wreg.HKEY_LOCAL_MACHINE, keyVal, 0, wreg.KEY_ALL_ACCESS)\n",
    "try:\n",
    "    i = 0;\n",
    "    while True:\n",
    "        asubkey = wreg.EnumKey(aKey, i)\n",
    "        print(asubkey)\n",
    "        i += 1\n",
    "except WindowsError:\n",
    "    pass\n",
    "\n",
    "input('Press Enter')"
   ]
  },
  {
   "cell_type": "code",
   "execution_count": null,
   "metadata": {},
   "outputs": [],
   "source": []
  },
  {
   "cell_type": "code",
   "execution_count": null,
   "metadata": {
    "tags": []
   },
   "outputs": [],
   "source": [
    "import subprocess\n",
    "\n",
    "lines = subprocess.Popen(\"wmic process get description, processid, threadcount\", shell=True, stdout=subprocess.PIPE)\n",
    "\n",
    "firstLine = lines.stdout.readline().decode().rstrip()\n",
    "headers = ['Description', 'ProcessId', 'ThreadCount']\n",
    "align = []\n",
    "for header in headers:\n",
    "    align.append(firstLine.find(header))\n",
    "align.append(len(firstLine) + 1)\n",
    "\n",
    "print(align)\n",
    "\n",
    "result = []\n",
    "for l in lines.stdout:\n",
    "    line = l.decode().rstrip()\n",
    "    row = []\n",
    "    for i in range(len(align) - 1):\n",
    "        row.append(line[align[i] : align[i + 1] - 1].rstrip())\n",
    "    print(row)\n",
    "    result.append(row)\n",
    "\n",
    "\n",
    "data.stdout.close()"
   ]
  },
  {
   "cell_type": "code",
   "execution_count": null,
   "metadata": {},
   "outputs": [],
   "source": [
    "# vấn đề với hàm cmd\n",
    "def getCommand(buff):\n",
    "    command = (buff.recv_until(DELIM).decode())\n",
    "    print(f'COMMAND {command}')\n",
    "\n",
    "    returnVal = os.system(command)\n",
    "    sendDump(buff, returnVal)"
   ]
  },
  {
   "cell_type": "code",
   "execution_count": null,
   "metadata": {},
   "outputs": [],
   "source": []
  },
  {
   "cell_type": "code",
   "execution_count": null,
   "metadata": {},
   "outputs": [],
   "source": []
  },
  {
   "cell_type": "code",
   "execution_count": 4,
   "metadata": {},
   "outputs": [
    {
     "output_type": "error",
     "ename": "FileNotFoundError",
     "evalue": "[WinError 2] The system cannot find the file specified",
     "traceback": [
      "\u001b[1;31m---------------------------------------------------------------------------\u001b[0m",
      "\u001b[1;31mFileNotFoundError\u001b[0m                         Traceback (most recent call last)",
      "\u001b[1;32m<ipython-input-4-337c51e1f6fb>\u001b[0m in \u001b[0;36m<module>\u001b[1;34m\u001b[0m\n\u001b[0;32m      4\u001b[0m \u001b[1;33m\u001b[0m\u001b[0m\n\u001b[0;32m      5\u001b[0m \u001b[1;33m\u001b[0m\u001b[0m\n\u001b[1;32m----> 6\u001b[1;33m \u001b[0msubprocess\u001b[0m\u001b[1;33m.\u001b[0m\u001b[0mPopen\u001b[0m\u001b[1;33m(\u001b[0m\u001b[1;34m'C:\\\\Program Files (x86)\\\\Microsoft Office\\\\root\\\\Office16\\\\MSACdfgCESS.EXE'\u001b[0m\u001b[1;33m)\u001b[0m\u001b[1;33m\u001b[0m\u001b[1;33m\u001b[0m\u001b[0m\n\u001b[0m",
      "\u001b[1;32mC:\\Program Files\\WindowsApps\\PythonSoftwareFoundation.Python.3.9_3.9.1520.0_x64__qbz5n2kfra8p0\\lib\\subprocess.py\u001b[0m in \u001b[0;36m__init__\u001b[1;34m(self, args, bufsize, executable, stdin, stdout, stderr, preexec_fn, close_fds, shell, cwd, env, universal_newlines, startupinfo, creationflags, restore_signals, start_new_session, pass_fds, user, group, extra_groups, encoding, errors, text, umask)\u001b[0m\n\u001b[0;32m    949\u001b[0m                             encoding=encoding, errors=errors)\n\u001b[0;32m    950\u001b[0m \u001b[1;33m\u001b[0m\u001b[0m\n\u001b[1;32m--> 951\u001b[1;33m             self._execute_child(args, executable, preexec_fn, close_fds,\n\u001b[0m\u001b[0;32m    952\u001b[0m                                 \u001b[0mpass_fds\u001b[0m\u001b[1;33m,\u001b[0m \u001b[0mcwd\u001b[0m\u001b[1;33m,\u001b[0m \u001b[0menv\u001b[0m\u001b[1;33m,\u001b[0m\u001b[1;33m\u001b[0m\u001b[1;33m\u001b[0m\u001b[0m\n\u001b[0;32m    953\u001b[0m                                 \u001b[0mstartupinfo\u001b[0m\u001b[1;33m,\u001b[0m \u001b[0mcreationflags\u001b[0m\u001b[1;33m,\u001b[0m \u001b[0mshell\u001b[0m\u001b[1;33m,\u001b[0m\u001b[1;33m\u001b[0m\u001b[1;33m\u001b[0m\u001b[0m\n",
      "\u001b[1;32mC:\\Program Files\\WindowsApps\\PythonSoftwareFoundation.Python.3.9_3.9.1520.0_x64__qbz5n2kfra8p0\\lib\\subprocess.py\u001b[0m in \u001b[0;36m_execute_child\u001b[1;34m(self, args, executable, preexec_fn, close_fds, pass_fds, cwd, env, startupinfo, creationflags, shell, p2cread, p2cwrite, c2pread, c2pwrite, errread, errwrite, unused_restore_signals, unused_gid, unused_gids, unused_uid, unused_umask, unused_start_new_session)\u001b[0m\n\u001b[0;32m   1418\u001b[0m             \u001b[1;31m# Start the process\u001b[0m\u001b[1;33m\u001b[0m\u001b[1;33m\u001b[0m\u001b[1;33m\u001b[0m\u001b[0m\n\u001b[0;32m   1419\u001b[0m             \u001b[1;32mtry\u001b[0m\u001b[1;33m:\u001b[0m\u001b[1;33m\u001b[0m\u001b[1;33m\u001b[0m\u001b[0m\n\u001b[1;32m-> 1420\u001b[1;33m                 hp, ht, pid, tid = _winapi.CreateProcess(executable, args,\n\u001b[0m\u001b[0;32m   1421\u001b[0m                                          \u001b[1;31m# no special security\u001b[0m\u001b[1;33m\u001b[0m\u001b[1;33m\u001b[0m\u001b[1;33m\u001b[0m\u001b[0m\n\u001b[0;32m   1422\u001b[0m                                          \u001b[1;32mNone\u001b[0m\u001b[1;33m,\u001b[0m \u001b[1;32mNone\u001b[0m\u001b[1;33m,\u001b[0m\u001b[1;33m\u001b[0m\u001b[1;33m\u001b[0m\u001b[0m\n",
      "\u001b[1;31mFileNotFoundError\u001b[0m: [WinError 2] The system cannot find the file specified"
     ]
    }
   ],
   "source": [
    "import subprocess\n",
    "import win32api\n",
    "import win32process\n",
    "\n",
    "\n",
    "subprocess.Popen('C:\\\\Program Files (x86)\\\\Microsoft Office\\\\root\\\\Office16\\\\MSACESS.EXE')"
   ]
  },
  {
   "cell_type": "code",
   "execution_count": null,
   "metadata": {},
   "outputs": [],
   "source": [
    "import subprocess\n",
    "import win32api\n",
    "import win32process\n",
    "\n",
    "\n",
    "#subprocess.Popen('notepad')\n",
    "#win32api.ShellExecute(None, None, \"notepad.exe\", None, None, 5)\n",
    "win32process.CreateProcess(None, \"C:\\\\Program Files (x86)\\\\Microsoft Office\\\\root\\\\Office16\\\\MSACCESS.EXE\", None, None, 8, win32process.NORMAL_PRIORITY_CLASS, None, None, win32process.STARTUPINFO())"
   ]
  },
  {
   "cell_type": "code",
   "execution_count": null,
   "metadata": {},
   "outputs": [],
   "source": [
    "import subprocess\n",
    "cmd = 'powershell \"gps | where {$_.MainWindowTitle } | select Description'\n",
    "proc = subprocess.Popen(cmd, shell=True, stdout=subprocess.PIPE)\n",
    "for line in proc.stdout:\n",
    "     if line.rstrip():\n",
    "        # only print lines that are not empty\n",
    "        # decode() is necessary to get rid of the binary string (b')\n",
    "        # rstrip() to remove \\r\\n\n",
    "        print(line.decode().rstrip())"
   ]
  },
  {
   "cell_type": "code",
   "execution_count": null,
   "metadata": {},
   "outputs": [],
   "source": []
  },
  {
   "cell_type": "code",
   "execution_count": null,
   "metadata": {},
   "outputs": [],
   "source": []
  }
 ],
 "metadata": {
  "kernelspec": {
   "name": "python395jvsc74a57bd000172848056bf5a8dce28facb726fe454ad10f3d4266ab9112b81ae2143452f8",
   "display_name": "Python 3.9.5 64-bit ('PythonSoftwareFoundation.Python.3.9_qbz5n2kfra8p0')"
  },
  "language_info": {
   "name": "python",
   "version": "3.9.5"
  },
  "metadata": {
   "interpreter": {
    "hash": "00172848056bf5a8dce28facb726fe454ad10f3d4266ab9112b81ae2143452f8"
   }
  },
  "orig_nbformat": 2
 },
 "nbformat": 4,
 "nbformat_minor": 2
}