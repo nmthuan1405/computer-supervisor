{
 "metadata": {
  "language_info": {
   "codemirror_mode": {
    "name": "ipython",
    "version": 3
   },
   "file_extension": ".py",
   "mimetype": "text/x-python",
   "name": "python",
   "nbconvert_exporter": "python",
   "pygments_lexer": "ipython3",
   "version": "3.9.4"
  },
  "orig_nbformat": 2,
  "kernelspec": {
   "name": "python394jvsc74a57bd01007ded7e1eaff6b45cf04652a42e4c7215e16ff81050cd9ffb14c011d6a5a93",
   "display_name": "Python 3.9.4 64-bit"
  },
  "metadata": {
   "interpreter": {
    "hash": "1007ded7e1eaff6b45cf04652a42e4c7215e16ff81050cd9ffb14c011d6a5a93"
   }
  }
 },
 "nbformat": 4,
 "nbformat_minor": 2,
 "cells": [
  {
   "cell_type": "code",
   "execution_count": null,
   "metadata": {},
   "outputs": [],
   "source": []
  },
  {
   "cell_type": "code",
   "execution_count": null,
   "metadata": {},
   "outputs": [],
   "source": [
    "import socket\n",
    "import pickle\n",
    "from boltons import socketutils\n",
    "from PIL import ImageGrab\n",
    "import os\n",
    "import wmi\n",
    "import commands\n",
    "\n",
    "server = \"\"\n",
    "port = 1234\n",
    "\n",
    "# dump func\n",
    "def sendDump(buff, var):\n",
    "    dump = pickle.dumps(var)\n",
    "    dump_size = len(dump)\n",
    "\n",
    "    buff.send(str(dump_size).encode() + b'!!')\n",
    "    buff.send(dump)\n",
    "    print(f'\\tSent dump data. Size: {dump_size}')\n",
    "\n",
    "# kill process func\n",
    "def getKillProcess(buff):\n",
    "    pid = int(buff.recv_until(b'!!').decode())\n",
    "    print(f'KILL PROCESS {pid}')\n",
    "\n",
    "    try:\n",
    "        os.kill(pid, 9)\n",
    "    except:\n",
    "        print('\\t Err: No process with uid exist')\n",
    "\n",
    "# process list func\n",
    "def sendProcessList(buff):\n",
    "    print('SEND PROCESS LIST')\n",
    "    f = wmi.WMI()\n",
    "\n",
    "    process_data = []\n",
    "    for process in f.Win32_Process([\"ProcessId\", \"Name\", \"ThreadCount\"]):\n",
    "        process_data.append([process.ProcessId, process.Name, process.ThreadCount])\n",
    "\n",
    "    sendDump(buff, process_data)\n",
    "\n",
    "#  screenshot func\n",
    "def sendScreenShot(buff):\n",
    "    print('SEND SCREENSHOT')\n",
    "    image = ImageGrab.grab()\n",
    "    \n",
    "    sendDump(buff, image)\n",
    "\n",
    "#close connection\n",
    "def closeConnection(buff):\n",
    "    print('CLOSE CONNECTION')\n",
    "    buff.close()\n",
    "\n",
    "# create socket\n",
    "with socket.socket(socket.AF_INET, socket.SOCK_STREAM) as s:\n",
    "    s.bind((server, port))\n",
    "\n",
    "    # start socket and wait to connect\n",
    "    print(\"Starting Server!\")\n",
    "    s.listen()\n",
    "    conn, addr = s.accept()\n",
    "    print(\"Connected by: \", addr)\n",
    "\n",
    "\n",
    "    buff = socketutils.BufferedSocket(conn, None)\n",
    "\n",
    "    while True:\n",
    "        flag = buff.recv_until(b'!F!').decode()\n",
    "        print(f'Receive: {flag}')\n",
    "        \n",
    "        if flag == 'screenshot':\n",
    "            sendScreenShot(buff)\n",
    "        elif flag == 'processlist':\n",
    "            sendProcessList(buff)\n",
    "        elif flag == 'killprocess':\n",
    "            getKillProcess(buff)\n",
    "        elif flag == 'command':\n",
    "            getCommand(buff)\n",
    "        else:\n",
    "            closeConnection(buff)\n",
    "            break\n",
    "\n",
    "        "
   ]
  },
  {
   "cell_type": "code",
   "execution_count": null,
   "metadata": {},
   "outputs": [],
   "source": [
    "def getCommand(buff):\n",
    "    command = (buff.recv_until(b'!!').decode())\n",
    "    print(f'COMMAND {command}')\n",
    "\n",
    "    returnVal = os.system(command)\n",
    "    sendDump(buff, returnVal)"
   ]
  },
  {
   "cell_type": "code",
   "execution_count": 16,
   "metadata": {},
   "outputs": [
    {
     "output_type": "stream",
     "name": "stdout",
     "text": [
      "done\n"
     ]
    }
   ],
   "source": [
    "import subprocess\n",
    "\n",
    "list_files = subprocess.Popen(\"notepad\")\n",
    "print('done')"
   ]
  },
  {
   "cell_type": "code",
   "execution_count": null,
   "metadata": {},
   "outputs": [],
   "source": []
  }
 ]
}