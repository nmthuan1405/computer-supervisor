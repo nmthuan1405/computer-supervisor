{
 "cells": [
  {
   "cell_type": "code",
   "execution_count": 1,
   "metadata": {},
   "outputs": [
    {
     "output_type": "stream",
     "name": "stdout",
     "text": [
      "START SERVER\n",
      "Port: 1234\n",
      "('127.0.0.1', 57891) \tSTART CONNECTION\n",
      "('127.0.0.1', 57891) \tReceive: screenshot\n",
      "('127.0.0.1', 57891) \tSEND SCREENSHOT\n",
      "('127.0.0.1', 57891) \tSent dump data. Size: 6220874\n",
      "('127.0.0.1', 57891) \tReceive: processlist\n",
      "('127.0.0.1', 57891) \tSEND PROCESS LIST\n",
      "('127.0.0.1', 57891) \tSent dump data. Size: 6753\n",
      "('127.0.0.1', 57891) \tClient have unexpected error. Exit thread\n"
     ]
    },
    {
     "output_type": "error",
     "ename": "KeyboardInterrupt",
     "evalue": "",
     "traceback": [
      "\u001b[1;31m---------------------------------------------------------------------------\u001b[0m",
      "\u001b[1;31mKeyboardInterrupt\u001b[0m                         Traceback (most recent call last)",
      "\u001b[1;32m<ipython-input-1-ff7ae0273cb6>\u001b[0m in \u001b[0;36m<module>\u001b[1;34m\u001b[0m\n\u001b[0;32m     46\u001b[0m \u001b[0mwindow_server\u001b[0m \u001b[1;33m=\u001b[0m \u001b[0mTk\u001b[0m\u001b[1;33m(\u001b[0m\u001b[1;33m)\u001b[0m\u001b[1;33m\u001b[0m\u001b[1;33m\u001b[0m\u001b[0m\n\u001b[0;32m     47\u001b[0m \u001b[0mServer_GUI\u001b[0m\u001b[1;33m(\u001b[0m\u001b[0mwindow_server\u001b[0m\u001b[1;33m)\u001b[0m\u001b[1;33m\u001b[0m\u001b[1;33m\u001b[0m\u001b[0m\n\u001b[1;32m---> 48\u001b[1;33m \u001b[0mwindow_server\u001b[0m\u001b[1;33m.\u001b[0m\u001b[0mmainloop\u001b[0m\u001b[1;33m(\u001b[0m\u001b[1;33m)\u001b[0m\u001b[1;33m\u001b[0m\u001b[1;33m\u001b[0m\u001b[0m\n\u001b[0m",
      "\u001b[1;32mC:\\Program Files\\WindowsApps\\PythonSoftwareFoundation.Python.3.9_3.9.1520.0_x64__qbz5n2kfra8p0\\lib\\tkinter\\__init__.py\u001b[0m in \u001b[0;36mmainloop\u001b[1;34m(self, n)\u001b[0m\n\u001b[0;32m   1427\u001b[0m     \u001b[1;32mdef\u001b[0m \u001b[0mmainloop\u001b[0m\u001b[1;33m(\u001b[0m\u001b[0mself\u001b[0m\u001b[1;33m,\u001b[0m \u001b[0mn\u001b[0m\u001b[1;33m=\u001b[0m\u001b[1;36m0\u001b[0m\u001b[1;33m)\u001b[0m\u001b[1;33m:\u001b[0m\u001b[1;33m\u001b[0m\u001b[1;33m\u001b[0m\u001b[0m\n\u001b[0;32m   1428\u001b[0m         \u001b[1;34m\"\"\"Call the mainloop of Tk.\"\"\"\u001b[0m\u001b[1;33m\u001b[0m\u001b[1;33m\u001b[0m\u001b[0m\n\u001b[1;32m-> 1429\u001b[1;33m         \u001b[0mself\u001b[0m\u001b[1;33m.\u001b[0m\u001b[0mtk\u001b[0m\u001b[1;33m.\u001b[0m\u001b[0mmainloop\u001b[0m\u001b[1;33m(\u001b[0m\u001b[0mn\u001b[0m\u001b[1;33m)\u001b[0m\u001b[1;33m\u001b[0m\u001b[1;33m\u001b[0m\u001b[0m\n\u001b[0m\u001b[0;32m   1430\u001b[0m \u001b[1;33m\u001b[0m\u001b[0m\n\u001b[0;32m   1431\u001b[0m     \u001b[1;32mdef\u001b[0m \u001b[0mquit\u001b[0m\u001b[1;33m(\u001b[0m\u001b[0mself\u001b[0m\u001b[1;33m)\u001b[0m\u001b[1;33m:\u001b[0m\u001b[1;33m\u001b[0m\u001b[1;33m\u001b[0m\u001b[0m\n",
      "\u001b[1;31mKeyboardInterrupt\u001b[0m: "
     ]
    }
   ],
   "source": [
    "from tkinter import *\n",
    "from tkinter.messagebox import askokcancel\n",
    "import server\n",
    "\n",
    "\n",
    "class Server_GUI:\n",
    "    def __init__(self, master):\n",
    "        self.services = None\n",
    "        self.master = master\n",
    "\n",
    "        self.master.title(\"Server\")\n",
    "        self.master.geometry('200x200')\n",
    "\n",
    "        self.btn_start = Button(self.master, text = \"Start Server\", width = 20, height = 5, command = self.start)\n",
    "        self.btn_start.place(relx = 0.5, rely = 0.5, anchor = CENTER)\n",
    "\n",
    "        self.master.protocol(\"WM_DELETE_WINDOW\", self.on_closing)\n",
    "\n",
    "    def start(self):\n",
    "        if self.services == None:\n",
    "            try:\n",
    "                self.services = server.ServerServices()\n",
    "                self.services.startServices()\n",
    "\n",
    "                self.btn_start.config(text = \"Stop Server\")\n",
    "            except:\n",
    "                print('Cannot create server')\n",
    "                self.services = None\n",
    "        else:\n",
    "            self.services.stopServices()\n",
    "            self.services = None\n",
    "\n",
    "            self.btn_start.config(text = \"Start Server\")\n",
    "\n",
    "    def on_closing(self):\n",
    "        if self.services != None:\n",
    "            if askokcancel(\"Quit\", \"Server is running.\\nDo you want to quit?\"):\n",
    "                self.services.stopServices()\n",
    "            else:\n",
    "                return\n",
    "            \n",
    "        self.master.destroy()\n",
    "\n",
    "            \n",
    "\n",
    "window_server = Tk()\n",
    "Server_GUI(window_server)\n",
    "window_server.mainloop()"
   ]
  },
  {
   "cell_type": "code",
   "execution_count": null,
   "metadata": {},
   "outputs": [],
   "source": [
    "from winreg import *\n",
    "def getHKEY(name):\n",
    "    if name == \"HKEY_CLASSES_ROOT\":\n",
    "        return HKEY_CLASSES_ROOT\n",
    "    elif name == \"HKEY_CURRENT_USER\":\n",
    "        return HKEY_CURRENT_USER\n",
    "    elif name == \"HKEY_LOCAL_MACHINE\":\n",
    "        return HKEY_LOCAL_MACHINE\n",
    "    elif name == \"HKEY_USERS\":\n",
    "        return HKEY_USERS\n",
    "    elif name == 'HKEY_PERFORMANCE_DATA':\n",
    "        return HKEY_PERFORMANCE_DATA\n",
    "    elif name == 'HKEY_CURRENT_CONFIG':\n",
    "        return HKEY_CURRENT_CONFIG\n",
    "    elif name == 'HKEY_DYN_DATA':\n",
    "        return HKEY_DYN_DATA\n",
    "\n",
    "def getType(type):\n",
    "    if type == 'String':\n",
    "        return REG_SZ\n",
    "    elif type == 'Binary':\n",
    "        return REG_BINARY\n",
    "    elif type == 'DWORD':\n",
    "        return REG_DWORD\n",
    "    elif type == 'QWORD':\n",
    "        return REG_QWORD\n",
    "    elif type == 'Multi-String':\n",
    "        return REG_MULTI_SZ\n",
    "    elif type == 'Expandable String':\n",
    "        return REG_EXPAND_SZ\n",
    "\n",
    "def createKey(key):\n",
    "    hkey, key = key.split('\\\\', 1)\n",
    "    return CreateKeyEx(getHKEY(hkey), key)\n",
    "\n",
    "def deleteKey(key):\n",
    "    hkey, key = key.split('\\\\', 1)\n",
    "    DeleteKey(getHKEY(hkey), key)\n",
    "\n",
    "def getValue(key, valueName):\n",
    "    return QueryValueEx(createKey(key), valueName)\n",
    "\n",
    "def setValue(key, valueName, value, type):\n",
    "    return SetValueEx(createKey(key), valueName, 0, getType(type), value)\n",
    "\n",
    "def deleteValue(key, valueName):\n",
    "    DeleteValue(createKey(key), valueName)\n",
    "\n"
   ]
  },
  {
   "cell_type": "code",
   "execution_count": null,
   "metadata": {},
   "outputs": [],
   "source": [
    "from _winreg import *\n",
    "\n",
    "def createKey(key):\n",
    "    hkey, key = key.split('\\\\', 1)\n",
    "    return CreateKeyEx(getHKEY(hkey), key)\n",
    "\n",
    "def deleteKey(key):\n",
    "    hkey, key = key.split('\\\\', 1)\n",
    "    DeleteKey(getHKEY(hkey), key)\n",
    "\n",
    "def getValue(key, valueName):\n",
    "    return QueryValueEx(createKey(key), valueName)\n",
    "\n",
    "def setValue(key, valueName, value, type):\n",
    "    return SetValueEx(createKey(key), valueName, 0, getType(type), value)\n",
    "\n",
    "def deleteValue(key, valueName):\n",
    "    DeleteValue(createKey(key), valueName)\n",
    "\n",
    "SetValueEx(createKey(r'HKEY_LOCAL_MACHINE\\SOFTWARE\\Adobe\\test1\\test2'), 'S2', 0, _winreg.REG_MULTI_SZ, [\"Car\", \"Bus\", \"Train\"])"
   ]
  },
  {
   "cell_type": "code",
   "execution_count": null,
   "metadata": {},
   "outputs": [],
   "source": [
    "setValue(r'HKEY_LOCAL_MACHINE\\SOFTWARE\\Adobe\\test1\\test2', 'test 1', b'ahihi', 'Binary')"
   ]
  },
  {
   "cell_type": "code",
   "execution_count": null,
   "metadata": {},
   "outputs": [],
   "source": [
    "createKey(r'HKEY_LOCAL_MACHINE\\SOFTWARE\\Adobe\\test1\\test2')"
   ]
  },
  {
   "cell_type": "code",
   "execution_count": null,
   "metadata": {},
   "outputs": [],
   "source": [
    "deleteKey(r'HKEY_LOCAL_MACHINE\\SOFTWARE\\Adobe\\test1\\test2')"
   ]
  },
  {
   "cell_type": "code",
   "execution_count": null,
   "metadata": {},
   "outputs": [],
   "source": [
    "deleteValue(r'HKEY_LOCAL_MACHINE\\SOFTWARE\\Adobe\\test1\\test2', 'a')"
   ]
  },
  {
   "cell_type": "code",
   "execution_count": null,
   "metadata": {},
   "outputs": [],
   "source": [
    "getValue(r'HKEY_LOCAL_MACHINE\\SOFTWARE\\Adobe\\test1\\test2', r'a')"
   ]
  },
  {
   "cell_type": "code",
   "execution_count": null,
   "metadata": {},
   "outputs": [],
   "source": []
  },
  {
   "cell_type": "code",
   "execution_count": null,
   "metadata": {},
   "outputs": [],
   "source": []
  },
  {
   "cell_type": "code",
   "execution_count": null,
   "metadata": {},
   "outputs": [],
   "source": [
    "\n",
    "import ctypes\n",
    "import subprocess\n",
    "import sys\n",
    "import os\n",
    "\n",
    "if os.name == 'nt':\n",
    "\tif not ctypes.windll.shell32.IsUserAnAdmin():\n",
    "\t\tprint('\\nThis script requires to be ran with admin privileges\\n')\n",
    "\t\tsys.exit()\n",
    "\n",
    "if sys.version[0] == '2':\n",
    "\tinput = raw_input\n",
    "\timport _winreg as wreg\n",
    "else:\n",
    "\timport winreg as wreg\n",
    "\n",
    "#create key\n",
    "key = wreg.CreateKey(wreg.HKEY_LOCAL_MACHINE, \"Software\\\\TestCompany\\\\TestProject\")\n",
    "# Create new subkey\n",
    "wreg.SetValue(key, 'NewSubkey', wreg.REG_SZ, 'testsubkey')\n",
    "print(wreg.QueryValue(key, 'NewSubKey'))\n",
    "# prints 'testsubkey'\n",
    "# Create new value\n",
    "wreg.SetValueEx(key, 'ValueName', 0, wreg.REG_SZ, 'testvalue')\n",
    "print(wreg.QueryValueEx(key,'ValueName'))\n",
    "# prints (u'testvalue', 1)\n",
    "key.Close()\n",
    "\n",
    "\n",
    "#read value\n",
    "key = wreg.OpenKey(wreg.HKEY_LOCAL_MACHINE, \"Software\\\\TestCompany\\\\TestProject\",0,wreg.KEY_ALL_ACCESS)\n",
    "wreg.SetValue(key, 'NewSubkey', wreg.REG_SZ, 'subkey_changed')\n",
    "print(wreg.QueryValue(key, 'NewSubkey'))\n",
    "# prints 'subkey_changed'\n",
    "wreg.SetValueEx(key, 'ValueName', 0, wreg.REG_SZ, 'value_changed')\n",
    "print(wreg.QueryValueEx(key, 'ValueName'))\n",
    "key.Close()\n",
    "\n",
    "\n",
    "#loop keys\n",
    "keyVal = r\"Software\"\n",
    "aKey = wreg.OpenKey(wreg.HKEY_LOCAL_MACHINE, keyVal, 0, wreg.KEY_ALL_ACCESS)\n",
    "try:\n",
    "    i = 0;\n",
    "    while True:\n",
    "        asubkey = wreg.EnumKey(aKey, i)\n",
    "        print(asubkey)\n",
    "        i += 1\n",
    "except WindowsError:\n",
    "    pass\n",
    "\n",
    "input('Press Enter')"
   ]
  },
  {
   "cell_type": "code",
   "execution_count": null,
   "metadata": {},
   "outputs": [],
   "source": []
  },
  {
   "cell_type": "code",
   "execution_count": null,
   "metadata": {},
   "outputs": [],
   "source": [
    "\n"
   ]
  },
  {
   "cell_type": "code",
   "execution_count": 2,
   "metadata": {
    "tags": []
   },
   "outputs": [
    {
     "output_type": "stream",
     "name": "stdout",
     "text": [
      "['Description', '', '', '', '', '', '', '', '', 'ProcessId', 'ThreadCount']\n['System Idle Process', '', '', '', '', '0', '', '', '', '', '12']\n['System', '', '', '', '', '', '', '', '', '', '', ' 4', '', '', '', '', '228']\n['Registry', '', '', '', '', '', '', '', '', '', ' 148', '', '', '', '4']\n['smss.exe', '', '', '', '', '', '', '', '', '', ' 536', '', '', '', '2']\n['csrss.exe', '', '', '', '', '', '', '', '', '', '752', '', '', '', '12']\n['wininit.exe', '', '', '', '', '', '', '', '', '680', '', '', '', '1']\n['csrss.exe', '', '', '', '', '', '', '', '', '', '780', '', '', '', '14']\n['services.exe', '', '', '', '', '', '', '', ' 864', '', '', '', '7']\n['lsass.exe', '', '', '', '', '', '', '', '', '', '868', '', '', '', '10']\n['svchost.exe', '', '', '', '', '', '', '', '', '1000', '', '', ' 18']\n['fontdrvhost.exe', '', '', '', '', '', '', '712', '', '', '', '5']\n['svchost.exe', '', '', '', '', '', '', '', '', '1040', '', '', ' 14']\n['svchost.exe', '', '', '', '', '', '', '', '', '1096', '', '', ' 3']\n['winlogon.exe', '', '', '', '', '', '', '', ' 1148', '', '', ' 5']\n['fontdrvhost.exe', '', '', '', '', '', '', '1204', '', '', ' 5']\n['dwm.exe', '', '', '', '', '', '', '', '', '', '', '1272', '', '', ' 16']\n['svchost.exe', '', '', '', '', '', '', '', '', '1408', '', '', ' 8']\n['svchost.exe', '', '', '', '', '', '', '', '', '1448', '', '', ' 4']\n['svchost.exe', '', '', '', '', '', '', '', '', '1456', '', '', ' 2']\n['svchost.exe', '', '', '', '', '', '', '', '', '1468', '', '', ' 1']\n['IntelCpHDCPSvc.exe', '', '', '', '', ' 1576', '', '', ' 3']\n['svchost.exe', '', '', '', '', '', '', '', '', '1584', '', '', ' 11']\n['svchost.exe', '', '', '', '', '', '', '', '', '1592', '', '', ' 5']\n['svchost.exe', '', '', '', '', '', '', '', '', '1652', '', '', ' 5']\n['svchost.exe', '', '', '', '', '', '', '', '', '1672', '', '', ' 4']\n['svchost.exe', '', '', '', '', '', '', '', '', '1756', '', '', ' 7']\n['IntelCpHeciSvc.exe', '', '', '', '', ' 1964', '', '', ' 3']\n['svchost.exe', '', '', '', '', '', '', '', '', '1972', '', '', ' 2']\n['svchost.exe', '', '', '', '', '', '', '', '', '2028', '', '', ' 11']\n['igfxCUIService.exe', '', '', '', '', ' 2068', '', '', ' 2']\n['svchost.exe', '', '', '', '', '', '', '', '', '2188', '', '', ' 6']\n['NVDisplay.Container.exe', '', '', '2236', '', '', ' 11']\n['svchost.exe', '', '', '', '', '', '', '', '', '2312', '', '', ' 2']\n['svchost.exe', '', '', '', '', '', '', '', '', '2376', '', '', ' 3']\n['svchost.exe', '', '', '', '', '', '', '', '', '2384', '', '', ' 3']\n['svchost.exe', '', '', '', '', '', '', '', '', '2392', '', '', ' 9']\n['svchost.exe', '', '', '', '', '', '', '', '', '2484', '', '', ' 2']\n['svchost.exe', '', '', '', '', '', '', '', '', '2492', '', '', ' 4']\n['Memory Compression', '', '', '', '', ' 2536', '', '', ' 70']\n['svchost.exe', '', '', '', '', '', '', '', '', '2592', '', '', ' 6']\n['svchost.exe', '', '', '', '', '', '', '', '', '2676', '', '', ' 10']\n['svchost.exe', '', '', '', '', '', '', '', '', '2788', '', '', ' 5']\n['svchost.exe', '', '', '', '', '', '', '', '', '2848', '', '', ' 12']\n['svchost.exe', '', '', '', '', '', '', '', '', '2948', '', '', ' 7']\n['audiodg.exe', '', '', '', '', '', '', '', '', '3048', '', '', ' 8']\n['svchost.exe', '', '', '', '', '', '', '', '', '3056', '', '', ' 4']\n['svchost.exe', '', '', '', '', '', '', '', '', '3064', '', '', ' 9']\n['svchost.exe', '', '', '', '', '', '', '', '', '3120', '', '', ' 16']\n['svchost.exe', '', '', '', '', '', '', '', '', '3204', '', '', ' 3']\n['AsLdrSrv64.exe', '', '', '', '', '', '', ' 3212', '', '', ' 6']\n['spoolsv.exe', '', '', '', '', '', '', '', '', '3364', '', '', ' 7']\n['svchost.exe', '', '', '', '', '', '', '', '', '3480', '', '', ' 13']\n['svchost.exe', '', '', '', '', '', '', '', '', '3520', '', '', ' 6']\n['svchost.exe', '', '', '', '', '', '', '', '', '3820', '', '', ' 1']\n['AsHidSrv64.exe', '', '', '', '', '', '', ' 3832', '', '', ' 3']\n['svchost.exe', '', '', '', '', '', '', '', '', '3848', '', '', ' 8']\n['svchost.exe', '', '', '', '', '', '', '', '', '3856', '', '', ' 2']\n['svchost.exe', '', '', '', '', '', '', '', '', '3864', '', '', ' 17']\n['OneApp.IGCC.WinService.exe', ' 3880', '', '', ' 6']\n['svchost.exe', '', '', '', '', '', '', '', '', '3892', '', '', ' 12']\n['svchost.exe', '', '', '', '', '', '', '', '', '3900', '', '', ' 3']\n['svchost.exe', '', '', '', '', '', '', '', '', '3908', '', '', ' 8']\n['svchost.exe', '', '', '', '', '', '', '', '', '3916', '', '', ' 15']\n['svchost.exe', '', '', '', '', '', '', '', '', '3924', '', '', ' 1']\n['svchost.exe', '', '', '', '', '', '', '', '', '3932', '', '', ' 19']\n['svchost.exe', '', '', '', '', '', '', '', '', '3940', '', '', ' 3']\n['WTabletServicePro.exe', '', '', '', '3952', '', '', ' 4']\n['RstMwService.exe', '', '', '', '', '', ' 3960', '', '', ' 6']\n['sqlwriter.exe', '', '', '', '', '', '', '', '3972', '', '', ' 2']\n['svchost.exe', '', '', '', '', '', '', '', '', '3984', '', '', ' 7']\n['NvTelemetryContainer.exe', '', ' 3992', '', '', ' 8']\n['MsMpEng.exe', '', '', '', '', '', '', '', '', '4012', '', '', ' 49']\n['OfficeClickToRun.exe', '', '', '', ' 4024', '', '', ' 24']\n['svchost.exe', '', '', '', '', '', '', '', '', '4168', '', '', ' 4']\n['svchost.exe', '', '', '', '', '', '', '', '', '4320', '', '', ' 6']\n['dasHost.exe', '', '', '', '', '', '', '', '', '4388', '', '', ' 2']\n['svchost.exe', '', '', '', '', '', '', '', '', '4480', '', '', ' 11']\n['sqlceip.exe', '', '', '', '', '', '', '', '', '4568', '', '', ' 11']\n['svchost.exe', '', '', '', '', '', '', '', '', '4576', '', '', ' 2']\n['sqlservr.exe', '', '', '', '', '', '', '', ' 4592', '', '', ' 91']\n['svchost.exe', '', '', '', '', '', '', '', '', '5636', '', '', ' 1']\n['svchost.exe', '', '', '', '', '', '', '', '', '5876', '', '', ' 6']\n['svchost.exe', '', '', '', '', '', '', '', '', '5976', '', '', ' 5']\n['svchost.exe', '', '', '', '', '', '', '', '', '3732', '', '', ' 7']\n['svchost.exe', '', '', '', '', '', '', '', '', '964', '', '', '', '7']\n['svchost.exe', '', '', '', '', '', '', '', '', '6512', '', '', ' 1']\n['svchost.exe', '', '', '', '', '', '', '', '', '6588', '', '', ' 2']\n['NVDisplay.Container.exe', '', '', '6916', '', '', ' 22']\n['NisSrv.exe', '', '', '', '', '', '', '', '', ' 6656', '', '', ' 4']\n['svchost.exe', '', '', '', '', '', '', '', '', '7620', '', '', ' 7']\n['MoUsoCoreWorker.exe', '', '', '', '', '7676', '', '', ' 8']\n['dllhost.exe', '', '', '', '', '', '', '', '', '8040', '', '', ' 4']\n['svchost.exe', '', '', '', '', '', '', '', '', '1608', '', '', ' 10']\n['SgrmBroker.exe', '', '', '', '', '', '', ' 3268', '', '', ' 7']\n['svchost.exe', '', '', '', '', '', '', '', '', '5652', '', '', ' 1']\n['svchost.exe', '', '', '', '', '', '', '', '', '7088', '', '', ' 8']\n['SearchIndexer.exe', '', '', '', '', '', '3568', '', '', ' 15']\n['AsMonStartupTask64.exe', '', '', ' 7740', '', '', ' 4']\n['sihost.exe', '', '', '', '', '', '', '', '', ' 5436', '', '', ' 10']\n['svchost.exe', '', '', '', '', '', '', '', '', '5800', '', '', ' 10']\n['igfxEM.exe', '', '', '', '', '', '', '', '', ' 5396', '', '', ' 7']\n['svchost.exe', '', '', '', '', '', '', '', '', '5164', '', '', ' 4']\n['taskhostw.exe', '', '', '', '', '', '', '', '8168', '', '', ' 8']\n['svchost.exe', '', '', '', '', '', '', '', '', '2644', '', '', ' 2']\n['explorer.exe', '', '', '', '', '', '', '', ' 4940', '', '', ' 60']\n['svchost.exe', '', '', '', '', '', '', '', '', '5024', '', '', ' 3']\n['ctfmon.exe', '', '', '', '', '', '', '', '', ' 7292', '', '', ' 11']\n['svchost.exe', '', '', '', '', '', '', '', '', '1832', '', '', ' 8']\n['EVKey64.exe', '', '', '', '', '', '', '', '', '2816', '', '', ' 3']\n['svchost.exe', '', '', '', '', '', '', '', '', '7060', '', '', ' 3']\n['StartMenuExperienceHost.exe', '1372', '', '', ' 7']\n['RuntimeBroker.exe', '', '', '', '', '', '6248', '', '', ' 2']\n['SearchApp.exe', '', '', '', '', '', '', '', '4008', '', '', ' 48']\n['Wacom_TabletUser.exe', '', '', '', ' 1240', '', '', ' 4']\n['RuntimeBroker.exe', '', '', '', '', '', '2452', '', '', ' 14']\n['YourPhone.exe', '', '', '', '', '', '', '', '7420', '', '', ' 19']\n['SettingSyncHost.exe', '', '', '', '', '6628', '', '', ' 7']\n['WacomHost.exe', '', '', '', '', '', '', '', '2692', '', '', ' 1']\n['Wacom_Tablet.exe', '', '', '', '', '', ' 8600', '', '', ' 28']\n['RuntimeBroker.exe', '', '', '', '', '', '8652', '', '', ' 1']\n['Wacom_TouchUser.exe', '', '', '', '', '8724', '', '', ' 12']\n['firefox.exe', '', '', '', '', '', '', '', '', '8900', '', '', ' 91']\n['firefox.exe', '', '', '', '', '', '', '', '', '9184', '', '', ' 31']\n['ShellExperienceHost.exe', '', '', '9212', '', '', ' 26']\n['firefox.exe', '', '', '', '', '', '', '', '', '6544', '', '', ' 35']\n['RuntimeBroker.exe', '', '', '', '', '', '9400', '', '', ' 12']\n['firefox.exe', '', '', '', '', '', '', '', '', '9708', '', '', ' 36']\n['firefox.exe', '', '', '', '', '', '', '', '', '10228', '', '', '39']\n['svchost.exe', '', '', '', '', '', '', '', '', '10180', '', '', '3']\n['svchost.exe', '', '', '', '', '', '', '', '', '10220', '', '', '1']\n['SystemSettingsBroker.exe', '', ' 10292', '', '', '14']\n['TextInputHost.exe', '', '', '', '', '', '10656', '', '', '11']\n['RuntimeBroker.exe', '', '', '', '', '', '10824', '', '', '1']\n['CompPkgSrv.exe', '', '', '', '', '', '', ' 10892', '', '', '1']\n['firefox.exe', '', '', '', '', '', '', '', '', '10928', '', '', '6']\n['SecurityHealthSystray.exe', '', '11008', '', '', '1']\n['SecurityHealthService.exe', '', '11040', '', '', '6']\n['svchost.exe', '', '', '', '', '', '', '', '', '11260', '', '', '5']\n['Cortana.exe', '', '', '', '', '', '', '', '', '6560', '', '', ' 19']\n['RuntimeBroker.exe', '', '', '', '', '', '2520', '', '', ' 1']\n['svchost.exe', '', '', '', '', '', '', '', '', '11380', '', '', '12']\n['svchost.exe', '', '', '', '', '', '', '', '', '11392', '', '', '2']\n['svchost.exe', '', '', '', '', '', '', '', '', '11808', '', '', '3']\n['RAVBg64.exe', '', '', '', '', '', '', '', '', '13284', '', '', '4']\n['RAVCpl64.exe', '', '', '', '', '', '', '', ' 12456', '', '', '7']\n['ApplicationFrameHost.exe', '', ' 12792', '', '', '5']\n['UserOOBEBroker.exe', '', '', '', '', ' 13056', '', '', '1']\n['dllhost.exe', '', '', '', '', '', '', '', '', '8428', '', '', ' 5']\n['Calculator.exe', '', '', '', '', '', '', ' 12092', '', '', '20']\n['RuntimeBroker.exe', '', '', '', '', '', '6440', '', '', ' 1']\n['HxOutlook.exe', '', '', '', '', '', '', '', '11128', '', '', '29']\n['RuntimeBroker.exe', '', '', '', '', '', '12208', '', '', '2']\n['HxTsr.exe', '', '', '', '', '', '', '', '', '', '11704', '', '', '15']\n['HxAccounts.exe', '', '', '', '', '', '', ' 12580', '', '', '13']\n['firefox.exe', '', '', '', '', '', '', '', '', '1008', '', '', ' 40']\n['WinStore.App.exe', '', '', '', '', '', ' 7380', '', '', ' 21']\n['RuntimeBroker.exe', '', '', '', '', '', '5004', '', '', ' 2']\n['svchost.exe', '', '', '', '', '', '', '', '', '6936', '', '', ' 2']\n['Video.UI.exe', '', '', '', '', '', '', '', ' 11292', '', '', '17']\n['GameBar.exe', '', '', '', '', '', '', '', '', '1864', '', '', ' 16']\n['GameBarFTServer.exe', '', '', '', '', '1184', '', '', ' 4']\n['RuntimeBroker.exe', '', '', '', '', '', '12056', '', '', '1']\n['svchost.exe', '', '', '', '', '', '', '', '', '6200', '', '', ' 3']\n['RuntimeBroker.exe', '', '', '', '', '', '11000', '', '', '1']\n['Microsoft.Photos.exe', '', '', '', ' 10324', '', '', '17']\n['LockApp.exe', '', '', '', '', '', '', '', '', '2428', '', '', ' 17']\n['RuntimeBroker.exe', '', '', '', '', '', '8736', '', '', ' 11']\n['svchost.exe', '', '', '', '', '', '', '', '', '7672', '', '', ' 3']\n['RuntimeBroker.exe', '', '', '', '', '', '11740', '', '', '5']\n['Code.exe', '', '', '', '', '', '', '', '', '', ' 8204', '', '', ' 35']\n['Code.exe', '', '', '', '', '', '', '', '', '', ' 3464', '', '', ' 7']\n['Code.exe', '', '', '', '', '', '', '', '', '', ' 6356', '', '', ' 16']\n['Code.exe', '', '', '', '', '', '', '', '', '', ' 8200', '', '', ' 8']\n['Code.exe', '', '', '', '', '', '', '', '', '', ' 10968', '', '', '33']\n['Code.exe', '', '', '', '', '', '', '', '', '', ' 2728', '', '', ' 27']\n['Code.exe', '', '', '', '', '', '', '', '', '', ' 8080', '', '', ' 22']\n['CodeHelper.exe', '', '', '', '', '', '', ' 8560', '', '', ' 6']\n['conhost.exe', '', '', '', '', '', '', '', '', '5028', '', '', ' 2']\n['Code.exe', '', '', '', '', '', '', '', '', '', ' 9460', '', '', ' 12']\n['conhost.exe', '', '', '', '', '', '', '', '', '2524', '', '', ' 5']\n['powershell.exe', '', '', '', '', '', '', ' 1284', '', '', ' 9']\n['Code.exe', '', '', '', '', '', '', '', '', '', ' 12304', '', '', '10']\n['taskhostw.exe', '', '', '', '', '', '', '', '9972', '', '', ' 7']\n['Code.exe', '', '', '', '', '', '', '', '', '', ' 1648', '', '', ' 26']\n['dllhost.exe', '', '', '', '', '', '', '', '', '6264', '', '', ' 2']\n['conhost.exe', '', '', '', '', '', '', '', '', '2120', '', '', ' 5']\n['powershell.exe', '', '', '', '', '', '', ' 11136', '', '', '11']\n['firefox.exe', '', '', '', '', '', '', '', '', '8556', '', '', ' 37']\n['firefox.exe', '', '', '', '', '', '', '', '', '11944', '', '', '35']\n['SystemSettings.exe', '', '', '', '', ' 14324', '', '', '23']\n['python3.9.exe', '', '', '', '', '', '', '', '10988', '', '', '5']\n['conhost.exe', '', '', '', '', '', '', '', '', '13496', '', '', '2']\n['python3.9.exe', '', '', '', '', '', '', '', '12124', '', '', '16']\n['firefox.exe', '', '', '', '', '', '', '', '', '4176', '', '', ' 36']\n['firefox.exe', '', '', '', '', '', '', '', '', '10060', '', '', '35']\n['svchost.exe', '', '', '', '', '', '', '', '', '3764', '', '', ' 12']\n['python3.9.exe', '', '', '', '', '', '', '', '13916', '', '', '8']\n['conhost.exe', '', '', '', '', '', '', '', '', '12976', '', '', '2']\n['SearchProtocolHost.exe', '', '', ' 9432', '', '', ' 6']\n['SearchFilterHost.exe', '', '', '', ' 12376', '', '', '3']\n['python3.9.exe', '', '', '', '', '', '', '', '13840', '', '', '18']\n['WmiPrvSE.exe', '', '', '', '', '', '', '', ' 13372', '', '', '7']\n['svchost.exe', '', '', '', '', '', '', '', '', '12992', '', '', '8']\n['python3.9.exe', '', '', '', '', '', '', '', '2360', '', '', ' 11']\n['conhost.exe', '', '', '', '', '', '', '', '', '11332', '', '', '4']\n['python3.9.exe', '', '', '', '', '', '', '', '13452', '', '', '8']\n['cmd.exe', '', '', '', '', '', '', '', '', '', '', '12236', '', '', '3']\n['WMIC.exe', '', '', '', '', '', '', '', '', '', ' 7992', '', '', ' 8']\n['']\n"
     ]
    }
   ],
   "source": [
    "import subprocess\n",
    "\n",
    "data = subprocess.Popen(\"wmic process get description, processid, threadcount\", shell=True, stdout=subprocess.PIPE)\n",
    "\n",
    "for line in data.stdout:\n",
    "    print(line.decode().rstrip().split('  '))"
   ]
  },
  {
   "cell_type": "code",
   "execution_count": null,
   "metadata": {},
   "outputs": [],
   "source": [
    "# vấn đề với hàm cmd\n",
    "def getCommand(buff):\n",
    "    command = (buff.recv_until(DELIM).decode())\n",
    "    print(f'COMMAND {command}')\n",
    "\n",
    "    returnVal = os.system(command)\n",
    "    sendDump(buff, returnVal)"
   ]
  },
  {
   "cell_type": "code",
   "execution_count": null,
   "metadata": {},
   "outputs": [],
   "source": []
  },
  {
   "cell_type": "code",
   "execution_count": null,
   "metadata": {},
   "outputs": [],
   "source": []
  },
  {
   "cell_type": "code",
   "execution_count": null,
   "metadata": {},
   "outputs": [],
   "source": []
  },
  {
   "cell_type": "code",
   "execution_count": 2,
   "metadata": {},
   "outputs": [
    {
     "output_type": "execute_result",
     "data": {
      "text/plain": [
       "(<PyHANDLE:1628>, <PyHANDLE:1632>, 14556, 11032)"
      ]
     },
     "metadata": {},
     "execution_count": 2
    }
   ],
   "source": [
    "import subprocess\n",
    "import win32api\n",
    "import win32process\n",
    "\n",
    "\n",
    "#subprocess.Popen('notepad')\n",
    "#win32api.ShellExecute(None, None, \"notepad.exe\", None, None, 5)\n",
    "win32process.CreateProcess(None, \"C:\\\\Program Files (x86)\\\\Microsoft Office\\\\root\\\\Office16\\\\MSACCESS.EXE\", None, None, 8, win32process.NORMAL_PRIORITY_CLASS, None, None, win32process.STARTUPINFO())"
   ]
  },
  {
   "cell_type": "code",
   "execution_count": 19,
   "metadata": {},
   "outputs": [
    {
     "output_type": "stream",
     "name": "stdout",
     "text": [
      "Description\n-----------\nApplication Frame Host\nCalculator.exe\nVisual Studio Code\nFirefox\nMicrosoft Outlook\nSettings\nStore\n"
     ]
    }
   ],
   "source": [
    "import subprocess\n",
    "cmd = 'powershell \"gps | where {$_.MainWindowTitle } | select Description'\n",
    "proc = subprocess.Popen(cmd, shell=True, stdout=subprocess.PIPE)\n",
    "for line in proc.stdout:\n",
    "     if line.rstrip():\n",
    "        # only print lines that are not empty\n",
    "        # decode() is necessary to get rid of the binary string (b')\n",
    "        # rstrip() to remove \\r\\n\n",
    "        print(line.decode().rstrip())"
   ]
  },
  {
   "cell_type": "code",
   "execution_count": null,
   "metadata": {},
   "outputs": [],
   "source": []
  },
  {
   "cell_type": "code",
   "execution_count": null,
   "metadata": {},
   "outputs": [],
   "source": []
  }
 ],
 "metadata": {
  "kernelspec": {
   "name": "python395jvsc74a57bd000172848056bf5a8dce28facb726fe454ad10f3d4266ab9112b81ae2143452f8",
   "display_name": "Python 3.9.5 64-bit ('PythonSoftwareFoundation.Python.3.9_qbz5n2kfra8p0')"
  },
  "language_info": {
   "name": "python",
   "version": "3.9.5"
  },
  "metadata": {
   "interpreter": {
    "hash": "00172848056bf5a8dce28facb726fe454ad10f3d4266ab9112b81ae2143452f8"
   }
  },
  "orig_nbformat": 2
 },
 "nbformat": 4,
 "nbformat_minor": 2
}