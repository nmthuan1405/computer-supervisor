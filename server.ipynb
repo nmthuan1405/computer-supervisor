{
 "metadata": {
  "language_info": {
   "codemirror_mode": {
    "name": "ipython",
    "version": 3
   },
   "file_extension": ".py",
   "mimetype": "text/x-python",
   "name": "python",
   "nbconvert_exporter": "python",
   "pygments_lexer": "ipython3",
   "version": "3.9.4"
  },
  "orig_nbformat": 2,
  "kernelspec": {
   "name": "python394jvsc74a57bd0767d51c1340bd893661ea55ea3124f6de3c7a262a8b4abca0554b478b1e2ff90",
   "display_name": "Python 3.9.4 64-bit"
  },
  "metadata": {
   "interpreter": {
    "hash": "767d51c1340bd893661ea55ea3124f6de3c7a262a8b4abca0554b478b1e2ff90"
   }
  }
 },
 "nbformat": 4,
 "nbformat_minor": 2,
 "cells": [
  {
   "cell_type": "code",
   "execution_count": 3,
   "metadata": {},
   "outputs": [],
   "source": []
  },
  {
   "cell_type": "code",
   "execution_count": 4,
   "metadata": {},
   "outputs": [
    {
     "output_type": "stream",
     "name": "stdout",
     "text": [
      "Starting Server!\n",
      "Connected by:  ('127.0.0.1', 58038)\n",
      "Receive: screenshot\n",
      "TAKE SCREENSHOT\n",
      "\tSent dump data. Size: 6220874\n",
      "Receive: close\n",
      "TAKE CLOSE\n"
     ]
    }
   ],
   "source": [
    "import socket\n",
    "import pickle\n",
    "from boltons import socketutils\n",
    "from PIL import ImageGrab\n",
    "import os\n",
    "\n",
    "server = \"\"\n",
    "port = 1234\n",
    "\n",
    "def takeScreenShot(buff):\n",
    "    print('TAKE SCREENSHOT')\n",
    "    image = ImageGrab.grab()\n",
    "    \n",
    "    dump = pickle.dumps(image)\n",
    "    dump_size = len(dump)\n",
    "\n",
    "    buff.send(str(dump_size).encode() + b'!!')\n",
    "    buff.send(dump)\n",
    "    print(f'\\tSent dump data. Size: {dump_size}')\n",
    "\n",
    "def takeCloseConnection(buff):\n",
    "    print('TAKE CLOSE')\n",
    "    buff.close()\n",
    "\n",
    "# create socket\n",
    "with socket.socket(socket.AF_INET, socket.SOCK_STREAM) as s:\n",
    "    s.bind((server, port))\n",
    "\n",
    "    # start socket and wait to connect\n",
    "    print(\"Starting Server!\")\n",
    "    s.listen()\n",
    "    conn, addr = s.accept()\n",
    "    print(\"Connected by: \", addr)\n",
    "\n",
    "\n",
    "    buff = socketutils.BufferedSocket(conn, None)\n",
    "\n",
    "    while True:\n",
    "        flag = buff.recv_until(b'!F!').decode()\n",
    "        print(f'Receive: {flag}')\n",
    "        \n",
    "        if flag == 'screenshot':\n",
    "            takeScreenShot(buff)\n",
    "        else:\n",
    "            takeCloseConnection(buff)\n",
    "            break\n",
    "\n",
    "        "
   ]
  },
  {
   "cell_type": "code",
   "execution_count": null,
   "metadata": {},
   "outputs": [],
   "source": []
  }
 ]
}