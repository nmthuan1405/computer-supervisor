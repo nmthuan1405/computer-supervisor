{
 "cells": [
  {
   "cell_type": "code",
   "execution_count": null,
   "metadata": {},
   "outputs": [],
   "source": [
    "from tkinter import *\n",
    "from tkinter.messagebox import askokcancel, showerror\n",
    "import server\n",
    "\n",
    "\n",
    "class Server_GUI:\n",
    "    def __init__(self, master):\n",
    "        self.services = None\n",
    "        self.master = master\n",
    "\n",
    "        self.master.title(\"Server\")\n",
    "        self.master.geometry('200x200')\n",
    "\n",
    "        self.btn_start = Button(self.master, text = \"Start Server\", width = 20, height = 5, command = self.start)\n",
    "        self.btn_start.place(relx = 0.5, rely = 0.5, anchor = CENTER)\n",
    "\n",
    "        self.master.protocol(\"WM_DELETE_WINDOW\", self.on_closing)\n",
    "\n",
    "    def start(self):\n",
    "        if self.services == None:\n",
    "            try:\n",
    "                self.services = server.ServerServices()\n",
    "                self.services.startServices()\n",
    "            except:\n",
    "                self.services = None\n",
    "                showerror('Error', 'Cannot create server', parent = self.master)\n",
    "            else:\n",
    "                self.btn_start.config(text = \"Stop Server\")\n",
    "\n",
    "        else:\n",
    "            count = self.services.clientCount()\n",
    "            if count > 0 and not askokcancel(\"Stop\", f\"{count} client(s) is connecting.\\nDo you really want to stop server?\"):\n",
    "                return\n",
    "\n",
    "            self.services.stopServices()\n",
    "            self.services = None\n",
    "\n",
    "            self.btn_start.config(text = \"Start Server\")\n",
    "\n",
    "    def on_closing(self):\n",
    "        if self.services != None:\n",
    "            if askokcancel(\"Quit\", \"Server is running.\\nDo you want to quit?\"):\n",
    "                count = self.services.clientCount()\n",
    "                \n",
    "                if count > 0 and not askokcancel(\"Stop\", f\"{count} client(s) is connecting.\\nDo you really want to exit?\"):\n",
    "                    return\n",
    "\n",
    "                self.services.stopServices()\n",
    "            else:\n",
    "                return\n",
    "            \n",
    "        self.master.destroy()\n",
    "\n",
    "            \n",
    "\n",
    "window_server = Tk()\n",
    "Server_GUI(window_server)\n",
    "window_server.mainloop()\n"
   ]
  },
  {
   "cell_type": "code",
   "execution_count": null,
   "metadata": {},
   "outputs": [],
   "source": []
  }
 ],
 "metadata": {
  "kernelspec": {
   "name": "python395jvsc74a57bd000172848056bf5a8dce28facb726fe454ad10f3d4266ab9112b81ae2143452f8",
   "display_name": "Python 3.9.5 64-bit ('PythonSoftwareFoundation.Python.3.9_qbz5n2kfra8p0')"
  },
  "language_info": {
   "name": "python",
   "version": "3.9.5"
  },
  "metadata": {
   "interpreter": {
    "hash": "00172848056bf5a8dce28facb726fe454ad10f3d4266ab9112b81ae2143452f8"
   }
  },
  "orig_nbformat": 2
 },
 "nbformat": 4,
 "nbformat_minor": 2
}