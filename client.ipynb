{
 "metadata": {
  "language_info": {
   "codemirror_mode": {
    "name": "ipython",
    "version": 3
   },
   "file_extension": ".py",
   "mimetype": "text/x-python",
   "name": "python",
   "nbconvert_exporter": "python",
   "pygments_lexer": "ipython3",
   "version": "3.9.4"
  },
  "orig_nbformat": 2,
  "kernelspec": {
   "name": "python394jvsc74a57bd0767d51c1340bd893661ea55ea3124f6de3c7a262a8b4abca0554b478b1e2ff90",
   "display_name": "Python 3.9.4 64-bit"
  },
  "metadata": {
   "interpreter": {
    "hash": "767d51c1340bd893661ea55ea3124f6de3c7a262a8b4abca0554b478b1e2ff90"
   }
  }
 },
 "nbformat": 4,
 "nbformat_minor": 2,
 "cells": [
  {
   "cell_type": "code",
   "execution_count": 1,
   "metadata": {},
   "outputs": [],
   "source": [
    "import socket\n",
    "import pickle\n",
    "from boltons import socketutils\n",
    "from PIL import ImageGrab\n",
    "import os\n",
    "\n",
    "server = \"localhost\"\n",
    "port = 1234\n",
    "\n",
    "# screenshoot func\n",
    "def getScreenShot(buff):\n",
    "    print('REQUEST SCREENSHOT')\n",
    "    buff.send('screenshot!F!'.encode())\n",
    "\n",
    "    dump_size = int(buff.recv_until(b'!!').decode())\n",
    "    dump = buff.recv_size(dump_size)\n",
    "    print(f'\\tReceived dump data, size: {dump_size}')\n",
    "    \n",
    "    return pickle.loads(dump)\n",
    "\n",
    "# close connection\n",
    "def getCloseConection(buff):\n",
    "    print('REQUEST CLOSE')\n",
    "    buff.send('close!F!'.encode())\n",
    "    buff.close()\n",
    "\n",
    "c = socket.socket(socket.AF_INET, socket.SOCK_STREAM)\n",
    "c.connect((server, port))\n",
    "\n",
    "buff = socketutils.BufferedSocket(c, None)"
   ]
  },
  {
   "cell_type": "code",
   "execution_count": 3,
   "metadata": {},
   "outputs": [
    {
     "output_type": "stream",
     "name": "stdout",
     "text": [
      "REQUEST SCREENSHOT\n\tReceived dump data, size: 6220874\nREQUEST CLOSE\n"
     ]
    }
   ],
   "source": [
    "#test screenshot\n",
    "img = getScreenShot(buff)\n",
    "img.show()"
   ]
  },
  {
   "cell_type": "code",
   "execution_count": null,
   "metadata": {},
   "outputs": [],
   "source": []
  },
  {
   "cell_type": "code",
   "execution_count": null,
   "metadata": {},
   "outputs": [],
   "source": [
    "getCloseConection(buff)"
   ]
  }
 ]
}