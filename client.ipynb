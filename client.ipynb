{
 "metadata": {
  "language_info": {
   "codemirror_mode": {
    "name": "ipython",
    "version": 3
   },
   "file_extension": ".py",
   "mimetype": "text/x-python",
   "name": "python",
   "nbconvert_exporter": "python",
   "pygments_lexer": "ipython3",
   "version": "3.9.4"
  },
  "orig_nbformat": 2,
  "kernelspec": {
   "name": "python394jvsc74a57bd01007ded7e1eaff6b45cf04652a42e4c7215e16ff81050cd9ffb14c011d6a5a93",
   "display_name": "Python 3.9.4 64-bit"
  },
  "metadata": {
   "interpreter": {
    "hash": "1007ded7e1eaff6b45cf04652a42e4c7215e16ff81050cd9ffb14c011d6a5a93"
   }
  }
 },
 "nbformat": 4,
 "nbformat_minor": 2,
 "cells": [
  {
   "cell_type": "code",
   "execution_count": null,
   "metadata": {},
   "outputs": [],
   "source": [
    "import socket\n",
    "import pickle\n",
    "from boltons import socketutils\n",
    "from PIL import ImageGrab\n",
    "import os\n",
    "import wmi\n",
    "\n",
    "server = \"localhost\"\n",
    "port = 1234\n",
    "\n",
    "\n",
    "# dump func\n",
    "def recvDump(buff):\n",
    "    dump_size = int(buff.recv_until(b'!!').decode())\n",
    "    dump = buff.recv_size(dump_size)\n",
    "\n",
    "    print(f'\\tReceived dump data, size: {dump_size}')\n",
    "    return pickle.loads(dump)\n",
    "\n",
    "# kill process func\n",
    "def sendKillProcess(buff, pid):\n",
    "    print('SEND KILL PROCESS SIGNAL')\n",
    "\n",
    "    buff.send('killprocess!F!'.encode())\n",
    "    buff.send(str(pid).encode() + b'!!')\n",
    "    \n",
    "# process list func\n",
    "def getProcessList(buff):\n",
    "    print('REQUEST PROCESS LIST')\n",
    "\n",
    "    buff.send('processlist!F!'.encode())\n",
    "    return recvDump(buff)\n",
    "\n",
    "# screenshoot func\n",
    "def getScreenShot(buff):\n",
    "    print('REQUEST SCREENSHOT')\n",
    "\n",
    "    buff.send('screenshot!F!'.encode())\n",
    "    return recvDump(buff)\n",
    "\n",
    "# close connection func\n",
    "def sendCloseConection(buff):\n",
    "    print('SEND CLOSE SIGNAL')\n",
    "\n",
    "    buff.send('close!F!'.encode())\n",
    "    buff.close()\n",
    "\n",
    "c = socket.socket(socket.AF_INET, socket.SOCK_STREAM)\n",
    "c.connect((server, port))\n",
    "\n",
    "buff = socketutils.BufferedSocket(c, None)"
   ]
  },
  {
   "cell_type": "code",
   "execution_count": null,
   "metadata": {},
   "outputs": [],
   "source": [
    "def sendCommand(buff, command):\n",
    "    print(f'SEND COMMAND: {command}')\n",
    "\n",
    "    buff.send('command!F!'.encode())\n",
    "    buff.send(command.encode() + b'!!')\n",
    "    \n",
    "    return recvDump(buff)"
   ]
  },
  {
   "cell_type": "code",
   "execution_count": null,
   "metadata": {},
   "outputs": [],
   "source": [
    "print(sendCommand(buff, 'notepad'))"
   ]
  },
  {
   "cell_type": "code",
   "execution_count": null,
   "metadata": {},
   "outputs": [],
   "source": [
    "#test kill process\n",
    "sendKillProcess(buff, 7704)"
   ]
  },
  {
   "cell_type": "code",
   "execution_count": null,
   "metadata": {},
   "outputs": [],
   "source": [
    "#test process list\n",
    "print(getProcessList(buff))"
   ]
  },
  {
   "cell_type": "code",
   "execution_count": null,
   "metadata": {},
   "outputs": [],
   "source": [
    "#test screenshot\n",
    "getScreenShot(buff).show()"
   ]
  },
  {
   "cell_type": "code",
   "execution_count": null,
   "metadata": {},
   "outputs": [],
   "source": [
    "sendCloseConection(buff)"
   ]
  },
  {
   "cell_type": "code",
   "execution_count": null,
   "metadata": {},
   "outputs": [],
   "source": [
    "os.system('notepad')"
   ]
  },
  {
   "cell_type": "code",
   "execution_count": null,
   "metadata": {},
   "outputs": [],
   "source": [
    "os.startfile('notepad')"
   ]
  },
  {
   "cell_type": "code",
   "execution_count": null,
   "metadata": {},
   "outputs": [],
   "source": [
    "import subprocess\n",
    "cmd = 'powershell \"gps | where {$_.MainWindowTitle } | select Description'\n",
    "proc = subprocess.Popen(cmd, shell=True, stdout=subprocess.PIPE)\n",
    "for line in proc.stdout:\n",
    "    if line.rstrip():\n",
    "        # only print lines that are not empty\n",
    "        # decode() is necessary to get rid of the binary string (b')\n",
    "        # rstrip() to remove `\\r\\n`\n",
    "        print(line.decode().rstrip())"
   ]
  },
  {
   "cell_type": "code",
   "execution_count": null,
   "metadata": {},
   "outputs": [],
   "source": []
  }
 ]
}